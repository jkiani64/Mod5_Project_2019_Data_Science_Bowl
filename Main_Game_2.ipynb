{
 "cells": [
  {
   "cell_type": "code",
   "execution_count": 1,
   "metadata": {
    "ExecuteTime": {
     "end_time": "2019-11-04T13:48:48.958925Z",
     "start_time": "2019-11-04T13:48:46.454752Z"
    }
   },
   "outputs": [],
   "source": [
    "import numpy as np\n",
    "from tqdm import tqdm\n",
    "import json\n",
    "import pandas as pd\n",
    "import os\n",
    "import gc\n",
    "from sklearn.preprocessing import LabelEncoder\n",
    "from sklearn.model_selection import KFold\n",
    "#import lightgbm as lgb"
   ]
  },
  {
   "cell_type": "code",
   "execution_count": 2,
   "metadata": {
    "ExecuteTime": {
     "end_time": "2019-11-04T13:50:33.326959Z",
     "start_time": "2019-11-04T13:49:03.010143Z"
    }
   },
   "outputs": [
    {
     "name": "stdout",
     "output_type": "stream",
     "text": [
      "Reading train.csv file....\n",
      "Training.csv file have 11341042 rows and 11 columns\n",
      "Reading test.csv file....\n",
      "Test.csv file have 1156414 rows and 11 columns\n",
      "Reading train_labels.csv file....\n",
      "Train_labels.csv file have 17690 rows and 7 columns\n",
      "Reading specs.csv file....\n",
      "Specs.csv file have 386 rows and 3 columns\n",
      "Reading sample_submission.csv file....\n",
      "Sample_submission.csv file have 1000 rows and 2 columns\n"
     ]
    }
   ],
   "source": [
    "#Shape of data \n",
    "print('Reading train.csv file....')\n",
    "train = pd.read_csv('data/train.csv')\n",
    "print('Training.csv file have {} rows and {} columns'.format(train.shape[0], train.shape[1]))\n",
    "\n",
    "print('Reading test.csv file....')\n",
    "test = pd.read_csv('data/test.csv')\n",
    "print('Test.csv file have {} rows and {} columns'.format(test.shape[0], test.shape[1]))\n",
    "\n",
    "print('Reading train_labels.csv file....')\n",
    "train_labels = pd.read_csv('data/train_labels.csv')\n",
    "print('Train_labels.csv file have {} rows and {} columns'.format(train_labels.shape[0], train_labels.shape[1]))\n",
    "\n",
    "print('Reading specs.csv file....')\n",
    "specs = pd.read_csv('data/specs.csv')\n",
    "print('Specs.csv file have {} rows and {} columns'.format(specs.shape[0], specs.shape[1]))\n",
    "\n",
    "print('Reading sample_submission.csv file....')\n",
    "sample_submission = pd.read_csv('data/sample_submission.csv')\n",
    "print('Sample_submission.csv file have {} rows and {} columns'.format(sample_submission.shape[0], sample_submission.shape[1]))"
   ]
  },
  {
   "cell_type": "code",
   "execution_count": 3,
   "metadata": {
    "ExecuteTime": {
     "end_time": "2019-11-04T13:50:33.598154Z",
     "start_time": "2019-11-04T13:50:33.544359Z"
    }
   },
   "outputs": [
    {
     "data": {
      "text/html": [
       "<div>\n",
       "<style scoped>\n",
       "    .dataframe tbody tr th:only-of-type {\n",
       "        vertical-align: middle;\n",
       "    }\n",
       "\n",
       "    .dataframe tbody tr th {\n",
       "        vertical-align: top;\n",
       "    }\n",
       "\n",
       "    .dataframe thead th {\n",
       "        text-align: right;\n",
       "    }\n",
       "</style>\n",
       "<table border=\"1\" class=\"dataframe\">\n",
       "  <thead>\n",
       "    <tr style=\"text-align: right;\">\n",
       "      <th></th>\n",
       "      <th>event_id</th>\n",
       "      <th>game_session</th>\n",
       "      <th>timestamp</th>\n",
       "      <th>event_data</th>\n",
       "      <th>installation_id</th>\n",
       "      <th>event_count</th>\n",
       "      <th>event_code</th>\n",
       "      <th>game_time</th>\n",
       "      <th>title</th>\n",
       "      <th>type</th>\n",
       "      <th>world</th>\n",
       "    </tr>\n",
       "  </thead>\n",
       "  <tbody>\n",
       "    <tr>\n",
       "      <th>0</th>\n",
       "      <td>27253bdc</td>\n",
       "      <td>45bb1e1b6b50c07b</td>\n",
       "      <td>2019-09-06T17:53:46.937Z</td>\n",
       "      <td>{\"event_code\": 2000, \"event_count\": 1}</td>\n",
       "      <td>0001e90f</td>\n",
       "      <td>1</td>\n",
       "      <td>2000</td>\n",
       "      <td>0</td>\n",
       "      <td>Welcome to Lost Lagoon!</td>\n",
       "      <td>Clip</td>\n",
       "      <td>NONE</td>\n",
       "    </tr>\n",
       "    <tr>\n",
       "      <th>1</th>\n",
       "      <td>27253bdc</td>\n",
       "      <td>17eeb7f223665f53</td>\n",
       "      <td>2019-09-06T17:54:17.519Z</td>\n",
       "      <td>{\"event_code\": 2000, \"event_count\": 1}</td>\n",
       "      <td>0001e90f</td>\n",
       "      <td>1</td>\n",
       "      <td>2000</td>\n",
       "      <td>0</td>\n",
       "      <td>Magma Peak - Level 1</td>\n",
       "      <td>Clip</td>\n",
       "      <td>MAGMAPEAK</td>\n",
       "    </tr>\n",
       "    <tr>\n",
       "      <th>2</th>\n",
       "      <td>77261ab5</td>\n",
       "      <td>0848ef14a8dc6892</td>\n",
       "      <td>2019-09-06T17:54:56.302Z</td>\n",
       "      <td>{\"version\":\"1.0\",\"event_count\":1,\"game_time\":0...</td>\n",
       "      <td>0001e90f</td>\n",
       "      <td>1</td>\n",
       "      <td>2000</td>\n",
       "      <td>0</td>\n",
       "      <td>Sandcastle Builder (Activity)</td>\n",
       "      <td>Activity</td>\n",
       "      <td>MAGMAPEAK</td>\n",
       "    </tr>\n",
       "    <tr>\n",
       "      <th>3</th>\n",
       "      <td>b2dba42b</td>\n",
       "      <td>0848ef14a8dc6892</td>\n",
       "      <td>2019-09-06T17:54:56.387Z</td>\n",
       "      <td>{\"description\":\"Let's build a sandcastle! Firs...</td>\n",
       "      <td>0001e90f</td>\n",
       "      <td>2</td>\n",
       "      <td>3010</td>\n",
       "      <td>53</td>\n",
       "      <td>Sandcastle Builder (Activity)</td>\n",
       "      <td>Activity</td>\n",
       "      <td>MAGMAPEAK</td>\n",
       "    </tr>\n",
       "    <tr>\n",
       "      <th>4</th>\n",
       "      <td>1bb5fbdb</td>\n",
       "      <td>0848ef14a8dc6892</td>\n",
       "      <td>2019-09-06T17:55:03.253Z</td>\n",
       "      <td>{\"description\":\"Let's build a sandcastle! Firs...</td>\n",
       "      <td>0001e90f</td>\n",
       "      <td>3</td>\n",
       "      <td>3110</td>\n",
       "      <td>6972</td>\n",
       "      <td>Sandcastle Builder (Activity)</td>\n",
       "      <td>Activity</td>\n",
       "      <td>MAGMAPEAK</td>\n",
       "    </tr>\n",
       "  </tbody>\n",
       "</table>\n",
       "</div>"
      ],
      "text/plain": [
       "   event_id      game_session                 timestamp  \\\n",
       "0  27253bdc  45bb1e1b6b50c07b  2019-09-06T17:53:46.937Z   \n",
       "1  27253bdc  17eeb7f223665f53  2019-09-06T17:54:17.519Z   \n",
       "2  77261ab5  0848ef14a8dc6892  2019-09-06T17:54:56.302Z   \n",
       "3  b2dba42b  0848ef14a8dc6892  2019-09-06T17:54:56.387Z   \n",
       "4  1bb5fbdb  0848ef14a8dc6892  2019-09-06T17:55:03.253Z   \n",
       "\n",
       "                                          event_data installation_id  \\\n",
       "0             {\"event_code\": 2000, \"event_count\": 1}        0001e90f   \n",
       "1             {\"event_code\": 2000, \"event_count\": 1}        0001e90f   \n",
       "2  {\"version\":\"1.0\",\"event_count\":1,\"game_time\":0...        0001e90f   \n",
       "3  {\"description\":\"Let's build a sandcastle! Firs...        0001e90f   \n",
       "4  {\"description\":\"Let's build a sandcastle! Firs...        0001e90f   \n",
       "\n",
       "   event_count  event_code  game_time                          title  \\\n",
       "0            1        2000          0        Welcome to Lost Lagoon!   \n",
       "1            1        2000          0           Magma Peak - Level 1   \n",
       "2            1        2000          0  Sandcastle Builder (Activity)   \n",
       "3            2        3010         53  Sandcastle Builder (Activity)   \n",
       "4            3        3110       6972  Sandcastle Builder (Activity)   \n",
       "\n",
       "       type      world  \n",
       "0      Clip       NONE  \n",
       "1      Clip  MAGMAPEAK  \n",
       "2  Activity  MAGMAPEAK  \n",
       "3  Activity  MAGMAPEAK  \n",
       "4  Activity  MAGMAPEAK  "
      ]
     },
     "execution_count": 3,
     "metadata": {},
     "output_type": "execute_result"
    }
   ],
   "source": [
    "train.head()"
   ]
  },
  {
   "cell_type": "code",
   "execution_count": 4,
   "metadata": {
    "ExecuteTime": {
     "end_time": "2019-11-04T13:50:35.128490Z",
     "start_time": "2019-11-04T13:50:33.832300Z"
    }
   },
   "outputs": [],
   "source": [
    "activities_map = dict(zip(train['title'].unique(), \n",
    "                          4100*np.ones(train['title'].nunique()).astype('int')))\n",
    "activities_map['Bird Measurer (Assessment)'] = 4110"
   ]
  },
  {
   "cell_type": "code",
   "execution_count": 233,
   "metadata": {
    "ExecuteTime": {
     "end_time": "2019-11-04T17:23:49.057072Z",
     "start_time": "2019-11-04T17:23:49.017796Z"
    }
   },
   "outputs": [],
   "source": [
    "def extracting_duration(durations):\n",
    "    dur_std = 0\n",
    "    dur_sum = 0\n",
    "    dur_mean = 0\n",
    "    if len(durations) != 0:\n",
    "        dur_sum = durations.iloc[-1]\n",
    "        duration_norm = durations.diff().dropna()\n",
    "        if len(duration_norm) >= 2:\n",
    "            dur_std = duration_norm.std()\n",
    "            dur_mean = duration_norm.mean()\n",
    "    return dur_mean, dur_sum, dur_std\n",
    "\n",
    "\n",
    "def feature_engineering(user_sample, test_data=False):\n",
    "    output = []\n",
    "    Cum_Assess, Cum_Activity, Cum_Clip, Cum_Game = 0, 0, 0, 0\n",
    "    cum_corr, cum_incorr, cum_acc = 0, 0, 0\n",
    "    cum_dur_assess, cum_dur_clip, cum_dur_game, cum_dur_activity = 0, 0, 0, 0\n",
    "    counter = 0\n",
    "    cum_acc_group = []\n",
    "    # itarates through each session of one instalation_id\n",
    "    for session_name, session in user_sample.groupby('game_session', sort=False):\n",
    "\n",
    "        # Start a dict to have the feature characterestics\n",
    "        features = {'Clip': 0, 'Activity': 0,\n",
    "                    'Assess': 0, 'Game': 0,\n",
    "                    'Cum_Clip': Cum_Clip, 'Cum_Activity': Cum_Activity,\n",
    "                    'Cum_Assess': Cum_Assess, 'Cum_Game': Cum_Game,\n",
    "                    'cum_dur_clip': cum_dur_clip, 'cum_dur_asses': cum_dur_assess,\n",
    "                    'cum_dur_activity': cum_dur_activity, 'cum_dur_game': cum_dur_game}\n",
    "\n",
    "        features['installation_id'] = session['installation_id'].unique()[0]\n",
    "        features['game_session'] = session['game_session'].unique()[0]\n",
    "        # event_counter includes all event codes and all types\n",
    "        features['event_counter'] = session.iloc[-1]['event_count']\n",
    "\n",
    "        # session type\n",
    "        features['type'] = session['type'].unique()[0]\n",
    "        # session title\n",
    "        features['title'] = session['title'].unique()[0]\n",
    "\n",
    "        # World\n",
    "        features['world'] = session['world'].unique()[0]\n",
    "\n",
    "        # Just get back those with event codes of 4100 and 4110\n",
    "        all_attempts = session.query(\n",
    "            f'event_code == {activities_map[features[\"title\"]]}')\n",
    "#        all_attempts = session\n",
    "\n",
    "        if (features['type'] == 'Assessment'):\n",
    "            # if we consider all event codes,\n",
    "            # actions should be the same as event counter\n",
    "            features['Assess'] += len(all_attempts['event_data'])\n",
    "            Cum_Assess += features['Assess']\n",
    "\n",
    "            # Durations\n",
    "            features['assess_dur_mean'], features['assess_dur_sum'], \\\n",
    "                features['assess_dur_std'] = extracting_duration(\n",
    "                    all_attempts['game_time'])\n",
    "            cum_dur_assess += features['assess_dur_sum']\n",
    "\n",
    "            # Check the numbers of correct atteampts\n",
    "            features['cum_corr'] = cum_corr\n",
    "            features['correct'] = all_attempts['event_data'].str.contains(\n",
    "                'true').sum()\n",
    "            cum_corr += features['correct']\n",
    "\n",
    "            # Check the numbers of incorrect atteampts\n",
    "            features['cum_incorrect'] = cum_incorr\n",
    "            features['incorrect'] = all_attempts['event_data'].str.contains(\n",
    "                'false').sum()\n",
    "            cum_incorr += features['incorrect']\n",
    "\n",
    "            # To compute accuracy\n",
    "            features['cum_acc'] = cum_acc / counter if counter > 0 else 0\n",
    "            features['mean_acc_group'] = sum(cum_acc_group) / counter if counter > 0 else 0\n",
    "            counter += 1\n",
    "            features['acc'] = features['correct'] / (features['Assess'])\\\n",
    "                if features['Assess'] != 0 else 0\n",
    "            cum_acc += features['acc']\n",
    "\n",
    "            # To find the accuracy group\n",
    "            if features['acc'] == 0:\n",
    "                features['acc_group'] = 0\n",
    "            elif features['acc'] == 1:\n",
    "                features['acc_group'] = 3\n",
    "            elif features['acc'] == 0.5:\n",
    "                features['acc_group'] = 2\n",
    "            else:\n",
    "                features['acc_group'] = 1\n",
    "            cum_acc_group.append(features['acc_group'])\n",
    "\n",
    "        elif features['type'] == 'Clip':\n",
    "            # check the total number of clips\n",
    "            features['Clip'] += len(all_attempts['event_data'])\n",
    "            Cum_Clip += features['Clip']\n",
    "\n",
    "            # Durations\n",
    "            features['clip_dur_mean'], features['clip_dur_sum'], \\\n",
    "                features['clip_dur_std'] = extracting_duration(\n",
    "                    all_attempts['game_time'])\n",
    "            cum_dur_clip += features['clip_dur_sum']\n",
    "\n",
    "        elif features['type'] == 'Activity':\n",
    "            # check the total number of clips\n",
    "            features['Activity'] += len(all_attempts['event_data'])\n",
    "            Cum_Activity += features['Activity']\n",
    "\n",
    "            # Durations\n",
    "            features['activity_dur_mean'], features['activity_dur_sum'], \\\n",
    "                features['activity_dur_std'] = extracting_duration(\n",
    "                    all_attempts['game_time'])\n",
    "            cum_dur_activity += features['activity_dur_sum']\n",
    "\n",
    "        elif features['type'] == 'Game':\n",
    "            # check the total number of Games\n",
    "            features['Game'] += len(all_attempts['event_data'])\n",
    "            Cum_Game += features['Game']\n",
    "\n",
    "            # Durations\n",
    "            features['game_dur_mean'], features['game_dur_sum'], \\\n",
    "                features['game_dur_std'] = extracting_duration(\n",
    "                    all_attempts['game_time'])\n",
    "            cum_dur_game += features['game_dur_sum']\n",
    "\n",
    "        if features.get('Assess', 0) > 0 or test_data:\n",
    "            output.append(features)\n",
    "    if test_data:\n",
    "        return output[-1]\n",
    "    return output"
   ]
  },
  {
   "cell_type": "code",
   "execution_count": 250,
   "metadata": {
    "ExecuteTime": {
     "end_time": "2019-11-04T17:30:36.924320Z",
     "start_time": "2019-11-04T17:30:36.918161Z"
    }
   },
   "outputs": [],
   "source": [
    "# groups_train = train.groupby('installation_id', sort = False)\n",
    "# g_train = groups_train.get_group('0006a69f')\n",
    "# ss = pd.DataFrame(feature_engineering(g_train, False))\n",
    "\n",
    "# groups = test.groupby('installation_id', sort = False)\n",
    "# g_test = groups.get_group('00abaee7')\n",
    "# ss = pd.DataFrame(feature_engineering(g_test, True), index=[0])\n",
    "# ss.T"
   ]
  },
  {
   "cell_type": "code",
   "execution_count": 36,
   "metadata": {
    "ExecuteTime": {
     "end_time": "2019-11-04T14:51:25.593159Z",
     "start_time": "2019-11-04T14:51:25.579380Z"
    }
   },
   "outputs": [
    {
     "data": {
      "text/html": [
       "<div>\n",
       "<style scoped>\n",
       "    .dataframe tbody tr th:only-of-type {\n",
       "        vertical-align: middle;\n",
       "    }\n",
       "\n",
       "    .dataframe tbody tr th {\n",
       "        vertical-align: top;\n",
       "    }\n",
       "\n",
       "    .dataframe thead th {\n",
       "        text-align: right;\n",
       "    }\n",
       "</style>\n",
       "<table border=\"1\" class=\"dataframe\">\n",
       "  <thead>\n",
       "    <tr style=\"text-align: right;\">\n",
       "      <th></th>\n",
       "      <th>game_session</th>\n",
       "      <th>installation_id</th>\n",
       "      <th>title</th>\n",
       "      <th>num_correct</th>\n",
       "      <th>num_incorrect</th>\n",
       "      <th>accuracy</th>\n",
       "      <th>accuracy_group</th>\n",
       "    </tr>\n",
       "  </thead>\n",
       "  <tbody>\n",
       "    <tr>\n",
       "      <th>0</th>\n",
       "      <td>6bdf9623adc94d89</td>\n",
       "      <td>0006a69f</td>\n",
       "      <td>Mushroom Sorter (Assessment)</td>\n",
       "      <td>1</td>\n",
       "      <td>0</td>\n",
       "      <td>1.0</td>\n",
       "      <td>3</td>\n",
       "    </tr>\n",
       "    <tr>\n",
       "      <th>1</th>\n",
       "      <td>77b8ee947eb84b4e</td>\n",
       "      <td>0006a69f</td>\n",
       "      <td>Bird Measurer (Assessment)</td>\n",
       "      <td>0</td>\n",
       "      <td>11</td>\n",
       "      <td>0.0</td>\n",
       "      <td>0</td>\n",
       "    </tr>\n",
       "    <tr>\n",
       "      <th>2</th>\n",
       "      <td>901acc108f55a5a1</td>\n",
       "      <td>0006a69f</td>\n",
       "      <td>Mushroom Sorter (Assessment)</td>\n",
       "      <td>1</td>\n",
       "      <td>0</td>\n",
       "      <td>1.0</td>\n",
       "      <td>3</td>\n",
       "    </tr>\n",
       "    <tr>\n",
       "      <th>3</th>\n",
       "      <td>9501794defd84e4d</td>\n",
       "      <td>0006a69f</td>\n",
       "      <td>Mushroom Sorter (Assessment)</td>\n",
       "      <td>1</td>\n",
       "      <td>1</td>\n",
       "      <td>0.5</td>\n",
       "      <td>2</td>\n",
       "    </tr>\n",
       "    <tr>\n",
       "      <th>4</th>\n",
       "      <td>a9ef3ecb3d1acc6a</td>\n",
       "      <td>0006a69f</td>\n",
       "      <td>Bird Measurer (Assessment)</td>\n",
       "      <td>1</td>\n",
       "      <td>0</td>\n",
       "      <td>1.0</td>\n",
       "      <td>3</td>\n",
       "    </tr>\n",
       "  </tbody>\n",
       "</table>\n",
       "</div>"
      ],
      "text/plain": [
       "       game_session installation_id                         title  \\\n",
       "0  6bdf9623adc94d89        0006a69f  Mushroom Sorter (Assessment)   \n",
       "1  77b8ee947eb84b4e        0006a69f    Bird Measurer (Assessment)   \n",
       "2  901acc108f55a5a1        0006a69f  Mushroom Sorter (Assessment)   \n",
       "3  9501794defd84e4d        0006a69f  Mushroom Sorter (Assessment)   \n",
       "4  a9ef3ecb3d1acc6a        0006a69f    Bird Measurer (Assessment)   \n",
       "\n",
       "   num_correct  num_incorrect  accuracy  accuracy_group  \n",
       "0            1              0       1.0               3  \n",
       "1            0             11       0.0               0  \n",
       "2            1              0       1.0               3  \n",
       "3            1              1       0.5               2  \n",
       "4            1              0       1.0               3  "
      ]
     },
     "execution_count": 36,
     "metadata": {},
     "output_type": "execute_result"
    }
   ],
   "source": [
    "train_labels.head()"
   ]
  },
  {
   "cell_type": "markdown",
   "metadata": {},
   "source": [
    "### Process train set"
   ]
  },
  {
   "cell_type": "code",
   "execution_count": 262,
   "metadata": {
    "ExecuteTime": {
     "end_time": "2019-11-04T18:50:25.737369Z",
     "start_time": "2019-11-04T18:30:55.489261Z"
    },
    "scrolled": true
   },
   "outputs": [
    {
     "name": "stderr",
     "output_type": "stream",
     "text": [
      "100%|██████████| 17000/17000 [19:25<00:00, 17.29it/s]  \n"
     ]
    },
    {
     "name": "stdout",
     "output_type": "stream",
     "text": [
      "(17690, 29)\n"
     ]
    },
    {
     "data": {
      "text/plain": [
       "True"
      ]
     },
     "execution_count": 262,
     "metadata": {},
     "output_type": "execute_result"
    }
   ],
   "source": [
    "# Apply compile function to each installation_id in train dataset\n",
    "groups = train.groupby('installation_id', sort = False)\n",
    "df_train = pd.DataFrame()\n",
    "count = 0\n",
    "temp_out = []\n",
    "for ins_id, user_sample in tqdm(groups):\n",
    "    temp_out += feature_engineering(user_sample)\n",
    "df_train = pd.DataFrame(temp_out)\n",
    "#del temp_out\n",
    "print(df_train.shape)\n",
    "df_train['installation_id'].equals(train_labels['installation_id'])"
   ]
  },
  {
   "cell_type": "code",
   "execution_count": 263,
   "metadata": {
    "ExecuteTime": {
     "end_time": "2019-11-04T18:50:29.604980Z",
     "start_time": "2019-11-04T18:50:29.571413Z"
    },
    "scrolled": true
   },
   "outputs": [
    {
     "data": {
      "text/html": [
       "<div>\n",
       "<style scoped>\n",
       "    .dataframe tbody tr th:only-of-type {\n",
       "        vertical-align: middle;\n",
       "    }\n",
       "\n",
       "    .dataframe tbody tr th {\n",
       "        vertical-align: top;\n",
       "    }\n",
       "\n",
       "    .dataframe thead th {\n",
       "        text-align: right;\n",
       "    }\n",
       "</style>\n",
       "<table border=\"1\" class=\"dataframe\">\n",
       "  <thead>\n",
       "    <tr style=\"text-align: right;\">\n",
       "      <th></th>\n",
       "      <th>Activity</th>\n",
       "      <th>Assess</th>\n",
       "      <th>Clip</th>\n",
       "      <th>Cum_Activity</th>\n",
       "      <th>Cum_Assess</th>\n",
       "      <th>Cum_Clip</th>\n",
       "      <th>Cum_Game</th>\n",
       "      <th>Game</th>\n",
       "      <th>acc</th>\n",
       "      <th>acc_group</th>\n",
       "      <th>...</th>\n",
       "      <th>cum_dur_game</th>\n",
       "      <th>cum_incorrect</th>\n",
       "      <th>event_counter</th>\n",
       "      <th>game_session</th>\n",
       "      <th>incorrect</th>\n",
       "      <th>installation_id</th>\n",
       "      <th>mean_acc_group</th>\n",
       "      <th>title</th>\n",
       "      <th>type</th>\n",
       "      <th>world</th>\n",
       "    </tr>\n",
       "  </thead>\n",
       "  <tbody>\n",
       "    <tr>\n",
       "      <th>0</th>\n",
       "      <td>0</td>\n",
       "      <td>1</td>\n",
       "      <td>0</td>\n",
       "      <td>0</td>\n",
       "      <td>0</td>\n",
       "      <td>0</td>\n",
       "      <td>0</td>\n",
       "      <td>0</td>\n",
       "      <td>1.0</td>\n",
       "      <td>3</td>\n",
       "      <td>...</td>\n",
       "      <td>0</td>\n",
       "      <td>0</td>\n",
       "      <td>48</td>\n",
       "      <td>901acc108f55a5a1</td>\n",
       "      <td>0</td>\n",
       "      <td>0006a69f</td>\n",
       "      <td>0.0</td>\n",
       "      <td>Mushroom Sorter (Assessment)</td>\n",
       "      <td>Assessment</td>\n",
       "      <td>TREETOPCITY</td>\n",
       "    </tr>\n",
       "    <tr>\n",
       "      <th>1</th>\n",
       "      <td>0</td>\n",
       "      <td>11</td>\n",
       "      <td>0</td>\n",
       "      <td>0</td>\n",
       "      <td>1</td>\n",
       "      <td>0</td>\n",
       "      <td>4</td>\n",
       "      <td>0</td>\n",
       "      <td>0.0</td>\n",
       "      <td>0</td>\n",
       "      <td>...</td>\n",
       "      <td>185103</td>\n",
       "      <td>0</td>\n",
       "      <td>87</td>\n",
       "      <td>77b8ee947eb84b4e</td>\n",
       "      <td>11</td>\n",
       "      <td>0006a69f</td>\n",
       "      <td>3.0</td>\n",
       "      <td>Bird Measurer (Assessment)</td>\n",
       "      <td>Assessment</td>\n",
       "      <td>TREETOPCITY</td>\n",
       "    </tr>\n",
       "    <tr>\n",
       "      <th>2</th>\n",
       "      <td>0</td>\n",
       "      <td>1</td>\n",
       "      <td>0</td>\n",
       "      <td>0</td>\n",
       "      <td>12</td>\n",
       "      <td>0</td>\n",
       "      <td>4</td>\n",
       "      <td>0</td>\n",
       "      <td>1.0</td>\n",
       "      <td>3</td>\n",
       "      <td>...</td>\n",
       "      <td>185103</td>\n",
       "      <td>11</td>\n",
       "      <td>35</td>\n",
       "      <td>6bdf9623adc94d89</td>\n",
       "      <td>0</td>\n",
       "      <td>0006a69f</td>\n",
       "      <td>1.5</td>\n",
       "      <td>Mushroom Sorter (Assessment)</td>\n",
       "      <td>Assessment</td>\n",
       "      <td>TREETOPCITY</td>\n",
       "    </tr>\n",
       "    <tr>\n",
       "      <th>3</th>\n",
       "      <td>0</td>\n",
       "      <td>2</td>\n",
       "      <td>0</td>\n",
       "      <td>0</td>\n",
       "      <td>13</td>\n",
       "      <td>0</td>\n",
       "      <td>4</td>\n",
       "      <td>0</td>\n",
       "      <td>0.5</td>\n",
       "      <td>2</td>\n",
       "      <td>...</td>\n",
       "      <td>185103</td>\n",
       "      <td>11</td>\n",
       "      <td>42</td>\n",
       "      <td>9501794defd84e4d</td>\n",
       "      <td>1</td>\n",
       "      <td>0006a69f</td>\n",
       "      <td>1.5</td>\n",
       "      <td>Mushroom Sorter (Assessment)</td>\n",
       "      <td>Assessment</td>\n",
       "      <td>TREETOPCITY</td>\n",
       "    </tr>\n",
       "    <tr>\n",
       "      <th>4</th>\n",
       "      <td>0</td>\n",
       "      <td>1</td>\n",
       "      <td>0</td>\n",
       "      <td>0</td>\n",
       "      <td>15</td>\n",
       "      <td>0</td>\n",
       "      <td>8</td>\n",
       "      <td>0</td>\n",
       "      <td>1.0</td>\n",
       "      <td>3</td>\n",
       "      <td>...</td>\n",
       "      <td>320634</td>\n",
       "      <td>12</td>\n",
       "      <td>32</td>\n",
       "      <td>a9ef3ecb3d1acc6a</td>\n",
       "      <td>0</td>\n",
       "      <td>0006a69f</td>\n",
       "      <td>1.6</td>\n",
       "      <td>Bird Measurer (Assessment)</td>\n",
       "      <td>Assessment</td>\n",
       "      <td>TREETOPCITY</td>\n",
       "    </tr>\n",
       "  </tbody>\n",
       "</table>\n",
       "<p>5 rows × 29 columns</p>\n",
       "</div>"
      ],
      "text/plain": [
       "   Activity  Assess  Clip  Cum_Activity  Cum_Assess  Cum_Clip  Cum_Game  Game  \\\n",
       "0         0       1     0             0           0         0         0     0   \n",
       "1         0      11     0             0           1         0         4     0   \n",
       "2         0       1     0             0          12         0         4     0   \n",
       "3         0       2     0             0          13         0         4     0   \n",
       "4         0       1     0             0          15         0         8     0   \n",
       "\n",
       "   acc  acc_group     ...       cum_dur_game  cum_incorrect  event_counter  \\\n",
       "0  1.0          3     ...                  0              0             48   \n",
       "1  0.0          0     ...             185103              0             87   \n",
       "2  1.0          3     ...             185103             11             35   \n",
       "3  0.5          2     ...             185103             11             42   \n",
       "4  1.0          3     ...             320634             12             32   \n",
       "\n",
       "       game_session  incorrect  installation_id  mean_acc_group  \\\n",
       "0  901acc108f55a5a1          0         0006a69f             0.0   \n",
       "1  77b8ee947eb84b4e         11         0006a69f             3.0   \n",
       "2  6bdf9623adc94d89          0         0006a69f             1.5   \n",
       "3  9501794defd84e4d          1         0006a69f             1.5   \n",
       "4  a9ef3ecb3d1acc6a          0         0006a69f             1.6   \n",
       "\n",
       "                          title        type        world  \n",
       "0  Mushroom Sorter (Assessment)  Assessment  TREETOPCITY  \n",
       "1    Bird Measurer (Assessment)  Assessment  TREETOPCITY  \n",
       "2  Mushroom Sorter (Assessment)  Assessment  TREETOPCITY  \n",
       "3  Mushroom Sorter (Assessment)  Assessment  TREETOPCITY  \n",
       "4    Bird Measurer (Assessment)  Assessment  TREETOPCITY  \n",
       "\n",
       "[5 rows x 29 columns]"
      ]
     },
     "execution_count": 263,
     "metadata": {},
     "output_type": "execute_result"
    }
   ],
   "source": [
    "df_train.head()"
   ]
  },
  {
   "cell_type": "markdown",
   "metadata": {},
   "source": [
    "### Process test set"
   ]
  },
  {
   "cell_type": "code",
   "execution_count": 236,
   "metadata": {
    "ExecuteTime": {
     "end_time": "2019-11-04T17:26:26.994751Z",
     "start_time": "2019-11-04T17:24:14.966257Z"
    }
   },
   "outputs": [
    {
     "name": "stderr",
     "output_type": "stream",
     "text": [
      "100%|██████████| 1000/1000 [02:11<00:00,  5.70it/s]"
     ]
    },
    {
     "name": "stdout",
     "output_type": "stream",
     "text": [
      "(1000, 29)\n"
     ]
    },
    {
     "name": "stderr",
     "output_type": "stream",
     "text": [
      "\n"
     ]
    },
    {
     "data": {
      "text/plain": [
       "True"
      ]
     },
     "execution_count": 236,
     "metadata": {},
     "output_type": "execute_result"
    }
   ],
   "source": [
    "temp_data = []\n",
    "for ins_id, user_sample in tqdm(test.groupby('installation_id', sort=False)):\n",
    "    a = feature_engineering(user_sample, test_data = True)\n",
    "    temp_data.append(a)\n",
    "    \n",
    "df_test = pd.DataFrame(temp_data)\n",
    "del temp_data\n",
    "print(df_test.shape)\n",
    "df_test['installation_id'].equals(sample_submission['installation_id'])"
   ]
  },
  {
   "cell_type": "code",
   "execution_count": 268,
   "metadata": {
    "ExecuteTime": {
     "end_time": "2019-11-04T18:54:44.804450Z",
     "start_time": "2019-11-04T18:54:44.220016Z"
    }
   },
   "outputs": [],
   "source": [
    "df_test.to_csv('data_compiled/df_test.csv', index = False)\n",
    "df_train.to_csv('data_compiled/df_train.csv', index = False)"
   ]
  },
  {
   "cell_type": "code",
   "execution_count": null,
   "metadata": {},
   "outputs": [],
   "source": []
  }
 ],
 "metadata": {
  "kernelspec": {
   "display_name": "Python 3",
   "language": "python",
   "name": "python3"
  },
  "language_info": {
   "codemirror_mode": {
    "name": "ipython",
    "version": 3
   },
   "file_extension": ".py",
   "mimetype": "text/x-python",
   "name": "python",
   "nbconvert_exporter": "python",
   "pygments_lexer": "ipython3",
   "version": "3.7.1"
  },
  "toc": {
   "base_numbering": 1,
   "nav_menu": {},
   "number_sections": true,
   "sideBar": true,
   "skip_h1_title": false,
   "title_cell": "Table of Contents",
   "title_sidebar": "Contents",
   "toc_cell": false,
   "toc_position": {},
   "toc_section_display": true,
   "toc_window_display": false
  },
  "varInspector": {
   "cols": {
    "lenName": 16,
    "lenType": 16,
    "lenVar": 40
   },
   "kernels_config": {
    "python": {
     "delete_cmd_postfix": "",
     "delete_cmd_prefix": "del ",
     "library": "var_list.py",
     "varRefreshCmd": "print(var_dic_list())"
    },
    "r": {
     "delete_cmd_postfix": ") ",
     "delete_cmd_prefix": "rm(",
     "library": "var_list.r",
     "varRefreshCmd": "cat(var_dic_list()) "
    }
   },
   "types_to_exclude": [
    "module",
    "function",
    "builtin_function_or_method",
    "instance",
    "_Feature"
   ],
   "window_display": false
  }
 },
 "nbformat": 4,
 "nbformat_minor": 2
}
