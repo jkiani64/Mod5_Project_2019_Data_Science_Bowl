{
 "cells": [
  {
   "cell_type": "markdown",
   "metadata": {
    "ExecuteTime": {
     "end_time": "2019-11-04T19:27:37.829623Z",
     "start_time": "2019-11-04T19:27:37.823450Z"
    }
   },
   "source": [
    "# Introduction"
   ]
  },
  {
   "cell_type": "markdown",
   "metadata": {},
   "source": [
    "Fifth Annual Data Science Bowl will analyze digital game play to help build more effective educational media tools for children. The competition will look at advancements in early childhood education. The results will lead to better designed games and improved learning outcomes, empowering children, parents, caregivers and educators across the globe with insights into how young children learn through media and which approaches work best to help them build on foundational learning skills.\n",
    "To better understand these challenges and develop the most effective approaches to high-quality early educational media, Booz Allen Hamilton and Kaggle launched the fifth annual Data Science Bowl, the world's largest data science competition focused on social good.\n",
    "Participants will be provided with anonymous gameplay data from the PBS KIDS Measure Up! app, which was developed as a part of the CPB-PBS Ready to Learn Initiative with funding from the U.S. Department of Education. They will be tasked with **creating algorithms that utilize information about how players use the app to determine what they know and are learning from the experience**, in order to discover important relationships between their engagement with educational media and learning. The insights gleaned from these solutions will help PBS KIDS and other organizations create new solutions, content and products that help ensure each and every user has the best chance to learn important skills, helping improve childhood learning access and achievement.\n",
    "\n",
    "**Learning Path**\n",
    "Exposure ---> Exploration ---> Practice ---> Demonstration(as in demonstration of knowledge)\n",
    "In the PBS KIDS Measure Up! app, **children ages 3 to 5** learn early **STEM concepts focused on length, width, capacity, and weight** while going on an adventure through Treetop City, Magma Peak, and Crystal Caves. Joined by their favorite PBS KIDS characters from Dinosaur Train, Peg + Cat, and Sid the Science Kid, children can also collect rewards and unlock digital toys as they play. At the same time, caregivers can monitor and expand upon what their child is learning using a free companion app: PBS KIDS Super Vision.\n",
    "Parents can track the skills in which their kids excel, and the skills where they may need more practice. The app also provides tips and related activity ideas to extend learning into daily activities and family time.\n",
    "The PBS KIDS Measure Up! app, children navigate a map and complete various levels(media types):\n",
    "  1. Clip(Exposure)\n",
    "     - Interstitials/Introductory\n",
    "     - Longer(2-3 Minutes)/Familiar with problem\n",
    "  2. Activities(Practice): No subjective/There is cause and effect\n",
    "  3. Games(Practice): with the goal of solving problems/ There is an option of replay\n",
    "  4. Assessments(Measure player's knowledge/skills): number of incommect and number of accuracy group\n",
    "       * Bird Measurer\n",
    "       * Cart Balancer\n",
    "       * Cauldron Filler\n",
    "       * Chest Sorter\n",
    "       * Mushroom Sorter\n",
    "world - The section of the application the game or video belongs to. Helpful to identify the educational curriculum goals of the media. Possible values are: 'NONE' (at the app's start screen), TREETOPCITY' (Length/Height), 'MAGMAPEAK' (Capacity/Displacement), 'CRYSTALCAVES' (Weight).\n",
    "The intent of the competition is to use the gameplay data to forecast how many attempts a child will take to pass a given assessment (an incorrect answer is counted as an attempt).\n",
    "Each application install is represented by an installation_id. This will typically correspond to one child, but you should expect noise from issues such as shared devices.\n",
    "Note that the training set contains many installation_ids which never took assessments, whereas every installation_id in the test set made an attempt on at least one assessment.\n",
    "The outcomes in this competition are grouped into 4 groups (labeled accuracy_group in the data):\n",
    "\n",
    "3: the assessment was solved on the first attempt\n",
    "\n",
    "2: the assessment was solved on the second attempt\n",
    "\n",
    "1: the assessment was solved after 3 or more attempts\n",
    "\n",
    "0: the assessment was never solved"
   ]
  },
  {
   "cell_type": "markdown",
   "metadata": {
    "ExecuteTime": {
     "end_time": "2019-11-04T19:24:04.633500Z",
     "start_time": "2019-11-04T19:24:04.628881Z"
    }
   },
   "source": [
    "# Load the required Libararies "
   ]
  },
  {
   "cell_type": "code",
   "execution_count": 177,
   "metadata": {
    "ExecuteTime": {
     "end_time": "2019-11-04T21:51:54.420086Z",
     "start_time": "2019-11-04T21:51:54.352121Z"
    }
   },
   "outputs": [
    {
     "name": "stdout",
     "output_type": "stream",
     "text": [
      "The autoreload extension is already loaded. To reload it, use:\n",
      "  %reload_ext autoreload\n"
     ]
    }
   ],
   "source": [
    "import numpy as np\n",
    "from tqdm import tqdm\n",
    "import json\n",
    "import pandas as pd\n",
    "import os\n",
    "import gc\n",
    "from sklearn.model_selection import KFold\n",
    "#import lightgbm as lgb\n",
    "from training import *\n",
    "import warnings\n",
    "warnings.simplefilter(action='ignore', category=FutureWarning)\n",
    "\n",
    "%load_ext autoreload\n",
    "%autoreload 2"
   ]
  },
  {
   "cell_type": "markdown",
   "metadata": {},
   "source": [
    "# Download the data using Kaggle API"
   ]
  },
  {
   "cell_type": "code",
   "execution_count": 6,
   "metadata": {
    "ExecuteTime": {
     "end_time": "2019-11-04T19:31:42.343917Z",
     "start_time": "2019-11-04T19:31:42.339171Z"
    }
   },
   "outputs": [],
   "source": [
    "# Download the dataset\n",
    "#!kaggle competitions list\n",
    "#!kaggle competitions download -c data-science-bowl-2019"
   ]
  },
  {
   "cell_type": "markdown",
   "metadata": {},
   "source": [
    "# Read the input Data"
   ]
  },
  {
   "cell_type": "code",
   "execution_count": 39,
   "metadata": {
    "ExecuteTime": {
     "end_time": "2019-11-04T19:55:54.535432Z",
     "start_time": "2019-11-04T19:54:01.677268Z"
    }
   },
   "outputs": [
    {
     "name": "stdout",
     "output_type": "stream",
     "text": [
      "Reading train.csv file....\n",
      "Training.csv file have 11341042 rows and 11 columns\n",
      "Reading test.csv file....\n",
      "Test.csv file have 1156414 rows and 11 columns\n",
      "Reading train_labels.csv file....\n",
      "Train_labels.csv file have 17690 rows and 7 columns\n",
      "Reading specs.csv file....\n",
      "Specs.csv file have 386 rows and 3 columns\n",
      "Reading sample_submission.csv file....\n",
      "Sample_submission.csv file have 1000 rows and 2 columns\n"
     ]
    }
   ],
   "source": [
    "#Shape of data \n",
    "print('Reading train.csv file....')\n",
    "train = pd.read_csv('data/train.csv')\n",
    "print('Training.csv file have {} rows and {} columns'.format(train.shape[0], train.shape[1]))\n",
    "\n",
    "print('Reading test.csv file....')\n",
    "test = pd.read_csv('data/test.csv')\n",
    "print('Test.csv file have {} rows and {} columns'.format(test.shape[0], test.shape[1]))\n",
    "\n",
    "print('Reading train_labels.csv file....')\n",
    "train_labels = pd.read_csv('data/train_labels.csv')\n",
    "print('Train_labels.csv file have {} rows and {} columns'.format(train_labels.shape[0], train_labels.shape[1]))\n",
    "\n",
    "print('Reading specs.csv file....')\n",
    "specs = pd.read_csv('data/specs.csv')\n",
    "print('Specs.csv file have {} rows and {} columns'.format(specs.shape[0], specs.shape[1]))\n",
    "\n",
    "print('Reading sample_submission.csv file....')\n",
    "sample_submission = pd.read_csv('data/sample_submission.csv')\n",
    "print('Sample_submission.csv file have {} rows and {} columns'.format(sample_submission.shape[0], sample_submission.shape[1]))"
   ]
  },
  {
   "cell_type": "markdown",
   "metadata": {
    "ExecuteTime": {
     "end_time": "2019-11-04T19:24:58.722665Z",
     "start_time": "2019-11-04T19:24:58.716507Z"
    }
   },
   "source": [
    "# Data Processing "
   ]
  },
  {
   "cell_type": "code",
   "execution_count": 12,
   "metadata": {
    "ExecuteTime": {
     "end_time": "2019-11-04T19:37:15.192331Z",
     "start_time": "2019-11-04T19:37:06.385144Z"
    }
   },
   "outputs": [
    {
     "name": "stdout",
     "output_type": "stream",
     "text": [
      "<class 'pandas.core.frame.DataFrame'>\n",
      "RangeIndex: 11341042 entries, 0 to 11341041\n",
      "Data columns (total 11 columns):\n",
      "event_id           object\n",
      "game_session       object\n",
      "timestamp          object\n",
      "event_data         object\n",
      "installation_id    object\n",
      "event_count        int64\n",
      "event_code         int64\n",
      "game_time          int64\n",
      "title              object\n",
      "type               object\n",
      "world              object\n",
      "dtypes: int64(3), object(8)\n",
      "memory usage: 8.1 GB\n"
     ]
    }
   ],
   "source": [
    "# memory useage \n",
    "train.info(memory_usage='deep')"
   ]
  },
  {
   "cell_type": "code",
   "execution_count": 33,
   "metadata": {
    "ExecuteTime": {
     "end_time": "2019-11-04T19:51:28.869107Z",
     "start_time": "2019-11-04T19:51:25.265769Z"
    }
   },
   "outputs": [
    {
     "name": "stdout",
     "output_type": "stream",
     "text": [
      "<class 'pandas.core.frame.DataFrame'>\n",
      "RangeIndex: 1156414 entries, 0 to 1156413\n",
      "Data columns (total 11 columns):\n",
      "event_id           1156414 non-null object\n",
      "game_session       1156414 non-null object\n",
      "timestamp          1156414 non-null object\n",
      "event_data         1156414 non-null object\n",
      "installation_id    1156414 non-null object\n",
      "event_count        1156414 non-null int64\n",
      "event_code         1156414 non-null int64\n",
      "game_time          1156414 non-null int64\n",
      "title              1156414 non-null object\n",
      "type               1156414 non-null object\n",
      "world              1156414 non-null object\n",
      "dtypes: int64(3), object(8)\n",
      "memory usage: 852.0 MB\n"
     ]
    }
   ],
   "source": [
    "test.info(memory_usage='deep')"
   ]
  },
  {
   "cell_type": "code",
   "execution_count": 65,
   "metadata": {
    "ExecuteTime": {
     "end_time": "2019-11-04T20:30:02.858055Z",
     "start_time": "2019-11-04T20:29:56.630097Z"
    }
   },
   "outputs": [],
   "source": [
    "all_game_session = train['game_session'].append(test['game_session']).unique()\n",
    "session_dict = dict(zip(all_game_session, np.arange(len(all_game_session))))\n",
    "\n",
    "all_installs = train['installation_id'].append(test['installation_id']).unique()\n",
    "installation_dict = dict(zip(all_installs, range(len(all_installs))))\n",
    "\n",
    "all_titles = train['title'].append(test['title']).unique()\n",
    "title_dict = dict(zip(all_titles, range(len(all_titles))))\n",
    "\n",
    "all_types = train['type'].append(test['type']).unique()\n",
    "type_dict = dict(zip(all_types, range(len(all_types))))\n",
    "\n",
    "all_world = train['world'].append(test['world']).unique()\n",
    "world_dict = dict(zip(all_world, range(len(all_world))))\n",
    "\n",
    "\n",
    "all_events = train['event_id'].append(test['event_id']).unique()\n",
    "event_dict = dict(zip(all_events, range(len(all_events))))"
   ]
  },
  {
   "cell_type": "code",
   "execution_count": 66,
   "metadata": {
    "ExecuteTime": {
     "end_time": "2019-11-04T20:31:07.002587Z",
     "start_time": "2019-11-04T20:30:11.545581Z"
    }
   },
   "outputs": [],
   "source": [
    "for df in [train, test]:\n",
    "    df['game_session'] = df['game_session'].map(session_dict)\n",
    "    df['installation_id'] = df['installation_id'].map(installation_dict)\n",
    "    df['world'] = df['world'].map(world_dict)\n",
    "    df['type'] = df['type'].map(type_dict)\n",
    "    df['title'] = df['title'].map(title_dict)\n",
    "    df['event_id'] = df['event_id'].map(event_dict)"
   ]
  },
  {
   "cell_type": "code",
   "execution_count": 68,
   "metadata": {
    "ExecuteTime": {
     "end_time": "2019-11-04T20:31:56.571315Z",
     "start_time": "2019-11-04T20:31:38.728598Z"
    }
   },
   "outputs": [
    {
     "name": "stdout",
     "output_type": "stream",
     "text": [
      "<class 'pandas.core.frame.DataFrame'>\n",
      "RangeIndex: 11341042 entries, 0 to 11341041\n",
      "Data columns (total 11 columns):\n",
      "event_id           int64\n",
      "game_session       int64\n",
      "timestamp          object\n",
      "event_data         object\n",
      "installation_id    int64\n",
      "event_count        int64\n",
      "event_code         int64\n",
      "game_time          int64\n",
      "title              int64\n",
      "type               int64\n",
      "world              int64\n",
      "dtypes: int64(9), object(2)\n",
      "memory usage: 4.3 GB\n"
     ]
    }
   ],
   "source": [
    "train.info(memory_usage='deep')"
   ]
  },
  {
   "cell_type": "code",
   "execution_count": 72,
   "metadata": {
    "ExecuteTime": {
     "end_time": "2019-11-04T20:34:23.390619Z",
     "start_time": "2019-11-04T20:34:23.381045Z"
    }
   },
   "outputs": [],
   "source": [
    "activities_map = dict(zip(title_dict.values(), \n",
    "                          4100*np.ones(len(title_dict)).astype('int')))\n",
    "activities_map[title_dict['Bird Measurer (Assessment)']] = 4110"
   ]
  },
  {
   "cell_type": "code",
   "execution_count": 75,
   "metadata": {
    "ExecuteTime": {
     "end_time": "2019-11-04T20:37:19.859534Z",
     "start_time": "2019-11-04T20:37:19.620148Z"
    }
   },
   "outputs": [],
   "source": [
    "def extracting_duration(durations):\n",
    "    dur_std = 0\n",
    "    dur_sum = 0\n",
    "    dur_mean = 0\n",
    "    if len(durations) != 0:\n",
    "        dur_sum = durations.iloc[-1]\n",
    "        duration_norm = durations.diff().dropna()\n",
    "        if len(duration_norm) >= 2:\n",
    "            dur_std = duration_norm.std()\n",
    "            dur_mean = duration_norm.mean()\n",
    "    return dur_mean, dur_sum, dur_std\n",
    "\n",
    "\n",
    "def feature_engineering(user_sample, test_data=False):\n",
    "    output = []\n",
    "    Cum_Assess, Cum_Activity, Cum_Clip, Cum_Game = 0, 0, 0, 0\n",
    "    cum_corr, cum_incorr, cum_acc = 0, 0, 0\n",
    "    cum_dur_assess, cum_dur_clip, cum_dur_game, cum_dur_activity = 0, 0, 0, 0\n",
    "    counter = 0\n",
    "    cum_acc_group = []\n",
    "    # itarates through each session of one instalation_id\n",
    "    for session_name, session in user_sample.groupby('game_session', sort=False):\n",
    "\n",
    "        # Start a dict to have the feature characterestics\n",
    "        features = {'Clip': 0, 'Activity': 0,\n",
    "                    'Assess': 0, 'Game': 0,\n",
    "                    'Cum_Clip': Cum_Clip, 'Cum_Activity': Cum_Activity,\n",
    "                    'Cum_Assess': Cum_Assess, 'Cum_Game': Cum_Game,\n",
    "                    'cum_dur_clip': cum_dur_clip, 'cum_dur_asses': cum_dur_assess,\n",
    "                    'cum_dur_activity': cum_dur_activity, 'cum_dur_game': cum_dur_game}\n",
    "\n",
    "        features['installation_id'] = session['installation_id'].unique()[0]\n",
    "        features['game_session'] = session['game_session'].unique()[0]\n",
    "        # event_counter includes all event codes and all types\n",
    "        features['event_counter'] = session.iloc[-1]['event_count']\n",
    "\n",
    "        # session type\n",
    "        features['type'] = session['type'].unique()[0]\n",
    "        # session title\n",
    "        features['title'] = session['title'].unique()[0]\n",
    "\n",
    "        # World\n",
    "        features['world'] = session['world'].unique()[0]\n",
    "\n",
    "        # Just get back those with event codes of 4100 and 4110\n",
    "        all_attempts = session.query(\n",
    "            f'event_code == {activities_map[features[\"title\"]]}')\n",
    "#        all_attempts = session\n",
    "\n",
    "        if (features['type'] == type_dict['Assessment']):\n",
    "            # if we consider all event codes,\n",
    "            # actions should be the same as event counter\n",
    "            features['Assess'] += len(all_attempts['event_data'])\n",
    "            Cum_Assess += features['Assess']\n",
    "\n",
    "            # Durations\n",
    "            features['assess_dur_mean'], features['assess_dur_sum'], \\\n",
    "                features['assess_dur_std'] = extracting_duration(\n",
    "                    all_attempts['game_time'])\n",
    "            cum_dur_assess += features['assess_dur_sum']\n",
    "\n",
    "            # Check the numbers of correct atteampts\n",
    "            features['cum_corr'] = cum_corr\n",
    "            features['correct'] = all_attempts['event_data'].str.contains(\n",
    "                'true').sum()\n",
    "            cum_corr += features['correct']\n",
    "\n",
    "            # Check the numbers of incorrect atteampts\n",
    "            features['cum_incorrect'] = cum_incorr\n",
    "            features['incorrect'] = all_attempts['event_data'].str.contains(\n",
    "                'false').sum()\n",
    "            cum_incorr += features['incorrect']\n",
    "\n",
    "            # To compute accuracy\n",
    "            features['cum_acc'] = cum_acc / counter if counter > 0 else 0\n",
    "            features['mean_acc_group'] = sum(cum_acc_group) / counter if counter > 0 else 0\n",
    "            counter += 1\n",
    "            features['acc'] = features['correct'] / (features['Assess'])\\\n",
    "                if features['Assess'] != 0 else 0\n",
    "            cum_acc += features['acc']\n",
    "\n",
    "            # To find the accuracy group\n",
    "            if features['acc'] == 0:\n",
    "                features['acc_group'] = 0\n",
    "            elif features['acc'] == 1:\n",
    "                features['acc_group'] = 3\n",
    "            elif features['acc'] == 0.5:\n",
    "                features['acc_group'] = 2\n",
    "            else:\n",
    "                features['acc_group'] = 1\n",
    "            cum_acc_group.append(features['acc_group'])\n",
    "\n",
    "        elif features['type'] == type_dict['Clip']:\n",
    "            # check the total number of clips\n",
    "            features['Clip'] += len(all_attempts['event_data'])\n",
    "            Cum_Clip += features['Clip']\n",
    "\n",
    "            # Durations\n",
    "            features['clip_dur_mean'], features['clip_dur_sum'], \\\n",
    "                features['clip_dur_std'] = extracting_duration(\n",
    "                    all_attempts['game_time'])\n",
    "            cum_dur_clip += features['clip_dur_sum']\n",
    "\n",
    "        elif features['type'] == type_dict['Activity']:\n",
    "            # check the total number of clips\n",
    "            features['Activity'] += len(all_attempts['event_data'])\n",
    "            Cum_Activity += features['Activity']\n",
    "\n",
    "            # Durations\n",
    "            features['activity_dur_mean'], features['activity_dur_sum'], \\\n",
    "                features['activity_dur_std'] = extracting_duration(\n",
    "                    all_attempts['game_time'])\n",
    "            cum_dur_activity += features['activity_dur_sum']\n",
    "\n",
    "        elif features['type'] == type_dict['Game']:\n",
    "            # check the total number of Games\n",
    "            features['Game'] += len(all_attempts['event_data'])\n",
    "            Cum_Game += features['Game']\n",
    "\n",
    "            # Durations\n",
    "            features['game_dur_mean'], features['game_dur_sum'], \\\n",
    "                features['game_dur_std'] = extracting_duration(\n",
    "                    all_attempts['game_time'])\n",
    "            cum_dur_game += features['game_dur_sum']\n",
    "\n",
    "        if features.get('Assess', 0) > 0 or test_data:\n",
    "            output.append(features)\n",
    "    if test_data:\n",
    "        return output[-1]\n",
    "    return output"
   ]
  },
  {
   "cell_type": "code",
   "execution_count": 82,
   "metadata": {
    "ExecuteTime": {
     "end_time": "2019-11-04T20:41:53.804149Z",
     "start_time": "2019-11-04T20:41:53.593941Z"
    }
   },
   "outputs": [],
   "source": [
    "# groups_train = train.groupby('installation_id', sort = False)\n",
    "# #g_train = groups_train.get_group('0006a69f')\n",
    "# g_train = groups_train.get_group(installation_dict['0006a69f'])\n",
    "# ss = pd.DataFrame(feature_engineering(g_train, False))\n",
    "\n",
    "# groups = test.groupby('installation_id', sort = False)\n",
    "# g_test = groups.get_group(installation_dict['00abaee7'])\n",
    "# ss = pd.DataFrame(feature_engineering(g_test, True), index=[0])"
   ]
  },
  {
   "cell_type": "markdown",
   "metadata": {},
   "source": [
    "## Process train set"
   ]
  },
  {
   "cell_type": "code",
   "execution_count": 262,
   "metadata": {
    "ExecuteTime": {
     "end_time": "2019-11-04T18:50:25.737369Z",
     "start_time": "2019-11-04T18:30:55.489261Z"
    },
    "scrolled": true
   },
   "outputs": [
    {
     "name": "stderr",
     "output_type": "stream",
     "text": [
      "100%|██████████| 17000/17000 [19:25<00:00, 17.29it/s]  \n"
     ]
    },
    {
     "name": "stdout",
     "output_type": "stream",
     "text": [
      "(17690, 29)\n"
     ]
    },
    {
     "data": {
      "text/plain": [
       "True"
      ]
     },
     "execution_count": 262,
     "metadata": {},
     "output_type": "execute_result"
    }
   ],
   "source": [
    "# Apply compile function to each installation_id in train dataset\n",
    "groups = train.groupby('installation_id', sort = False)\n",
    "df_train = pd.DataFrame()\n",
    "count = 0\n",
    "temp_out = []\n",
    "for ins_id, user_sample in tqdm(groups):\n",
    "    temp_out += feature_engineering(user_sample)\n",
    "df_train = pd.DataFrame(temp_out)\n",
    "#del temp_out\n",
    "print(df_train.shape)\n",
    "df_train['installation_id'].equals(train_labels['installation_id'])"
   ]
  },
  {
   "cell_type": "code",
   "execution_count": 263,
   "metadata": {
    "ExecuteTime": {
     "end_time": "2019-11-04T18:50:29.604980Z",
     "start_time": "2019-11-04T18:50:29.571413Z"
    },
    "scrolled": true
   },
   "outputs": [
    {
     "data": {
      "text/html": [
       "<div>\n",
       "<style scoped>\n",
       "    .dataframe tbody tr th:only-of-type {\n",
       "        vertical-align: middle;\n",
       "    }\n",
       "\n",
       "    .dataframe tbody tr th {\n",
       "        vertical-align: top;\n",
       "    }\n",
       "\n",
       "    .dataframe thead th {\n",
       "        text-align: right;\n",
       "    }\n",
       "</style>\n",
       "<table border=\"1\" class=\"dataframe\">\n",
       "  <thead>\n",
       "    <tr style=\"text-align: right;\">\n",
       "      <th></th>\n",
       "      <th>Activity</th>\n",
       "      <th>Assess</th>\n",
       "      <th>Clip</th>\n",
       "      <th>Cum_Activity</th>\n",
       "      <th>Cum_Assess</th>\n",
       "      <th>Cum_Clip</th>\n",
       "      <th>Cum_Game</th>\n",
       "      <th>Game</th>\n",
       "      <th>acc</th>\n",
       "      <th>acc_group</th>\n",
       "      <th>...</th>\n",
       "      <th>cum_dur_game</th>\n",
       "      <th>cum_incorrect</th>\n",
       "      <th>event_counter</th>\n",
       "      <th>game_session</th>\n",
       "      <th>incorrect</th>\n",
       "      <th>installation_id</th>\n",
       "      <th>mean_acc_group</th>\n",
       "      <th>title</th>\n",
       "      <th>type</th>\n",
       "      <th>world</th>\n",
       "    </tr>\n",
       "  </thead>\n",
       "  <tbody>\n",
       "    <tr>\n",
       "      <th>0</th>\n",
       "      <td>0</td>\n",
       "      <td>1</td>\n",
       "      <td>0</td>\n",
       "      <td>0</td>\n",
       "      <td>0</td>\n",
       "      <td>0</td>\n",
       "      <td>0</td>\n",
       "      <td>0</td>\n",
       "      <td>1.0</td>\n",
       "      <td>3</td>\n",
       "      <td>...</td>\n",
       "      <td>0</td>\n",
       "      <td>0</td>\n",
       "      <td>48</td>\n",
       "      <td>901acc108f55a5a1</td>\n",
       "      <td>0</td>\n",
       "      <td>0006a69f</td>\n",
       "      <td>0.0</td>\n",
       "      <td>Mushroom Sorter (Assessment)</td>\n",
       "      <td>Assessment</td>\n",
       "      <td>TREETOPCITY</td>\n",
       "    </tr>\n",
       "    <tr>\n",
       "      <th>1</th>\n",
       "      <td>0</td>\n",
       "      <td>11</td>\n",
       "      <td>0</td>\n",
       "      <td>0</td>\n",
       "      <td>1</td>\n",
       "      <td>0</td>\n",
       "      <td>4</td>\n",
       "      <td>0</td>\n",
       "      <td>0.0</td>\n",
       "      <td>0</td>\n",
       "      <td>...</td>\n",
       "      <td>185103</td>\n",
       "      <td>0</td>\n",
       "      <td>87</td>\n",
       "      <td>77b8ee947eb84b4e</td>\n",
       "      <td>11</td>\n",
       "      <td>0006a69f</td>\n",
       "      <td>3.0</td>\n",
       "      <td>Bird Measurer (Assessment)</td>\n",
       "      <td>Assessment</td>\n",
       "      <td>TREETOPCITY</td>\n",
       "    </tr>\n",
       "    <tr>\n",
       "      <th>2</th>\n",
       "      <td>0</td>\n",
       "      <td>1</td>\n",
       "      <td>0</td>\n",
       "      <td>0</td>\n",
       "      <td>12</td>\n",
       "      <td>0</td>\n",
       "      <td>4</td>\n",
       "      <td>0</td>\n",
       "      <td>1.0</td>\n",
       "      <td>3</td>\n",
       "      <td>...</td>\n",
       "      <td>185103</td>\n",
       "      <td>11</td>\n",
       "      <td>35</td>\n",
       "      <td>6bdf9623adc94d89</td>\n",
       "      <td>0</td>\n",
       "      <td>0006a69f</td>\n",
       "      <td>1.5</td>\n",
       "      <td>Mushroom Sorter (Assessment)</td>\n",
       "      <td>Assessment</td>\n",
       "      <td>TREETOPCITY</td>\n",
       "    </tr>\n",
       "    <tr>\n",
       "      <th>3</th>\n",
       "      <td>0</td>\n",
       "      <td>2</td>\n",
       "      <td>0</td>\n",
       "      <td>0</td>\n",
       "      <td>13</td>\n",
       "      <td>0</td>\n",
       "      <td>4</td>\n",
       "      <td>0</td>\n",
       "      <td>0.5</td>\n",
       "      <td>2</td>\n",
       "      <td>...</td>\n",
       "      <td>185103</td>\n",
       "      <td>11</td>\n",
       "      <td>42</td>\n",
       "      <td>9501794defd84e4d</td>\n",
       "      <td>1</td>\n",
       "      <td>0006a69f</td>\n",
       "      <td>1.5</td>\n",
       "      <td>Mushroom Sorter (Assessment)</td>\n",
       "      <td>Assessment</td>\n",
       "      <td>TREETOPCITY</td>\n",
       "    </tr>\n",
       "    <tr>\n",
       "      <th>4</th>\n",
       "      <td>0</td>\n",
       "      <td>1</td>\n",
       "      <td>0</td>\n",
       "      <td>0</td>\n",
       "      <td>15</td>\n",
       "      <td>0</td>\n",
       "      <td>8</td>\n",
       "      <td>0</td>\n",
       "      <td>1.0</td>\n",
       "      <td>3</td>\n",
       "      <td>...</td>\n",
       "      <td>320634</td>\n",
       "      <td>12</td>\n",
       "      <td>32</td>\n",
       "      <td>a9ef3ecb3d1acc6a</td>\n",
       "      <td>0</td>\n",
       "      <td>0006a69f</td>\n",
       "      <td>1.6</td>\n",
       "      <td>Bird Measurer (Assessment)</td>\n",
       "      <td>Assessment</td>\n",
       "      <td>TREETOPCITY</td>\n",
       "    </tr>\n",
       "  </tbody>\n",
       "</table>\n",
       "<p>5 rows × 29 columns</p>\n",
       "</div>"
      ],
      "text/plain": [
       "   Activity  Assess  Clip  Cum_Activity  Cum_Assess  Cum_Clip  Cum_Game  Game  \\\n",
       "0         0       1     0             0           0         0         0     0   \n",
       "1         0      11     0             0           1         0         4     0   \n",
       "2         0       1     0             0          12         0         4     0   \n",
       "3         0       2     0             0          13         0         4     0   \n",
       "4         0       1     0             0          15         0         8     0   \n",
       "\n",
       "   acc  acc_group     ...       cum_dur_game  cum_incorrect  event_counter  \\\n",
       "0  1.0          3     ...                  0              0             48   \n",
       "1  0.0          0     ...             185103              0             87   \n",
       "2  1.0          3     ...             185103             11             35   \n",
       "3  0.5          2     ...             185103             11             42   \n",
       "4  1.0          3     ...             320634             12             32   \n",
       "\n",
       "       game_session  incorrect  installation_id  mean_acc_group  \\\n",
       "0  901acc108f55a5a1          0         0006a69f             0.0   \n",
       "1  77b8ee947eb84b4e         11         0006a69f             3.0   \n",
       "2  6bdf9623adc94d89          0         0006a69f             1.5   \n",
       "3  9501794defd84e4d          1         0006a69f             1.5   \n",
       "4  a9ef3ecb3d1acc6a          0         0006a69f             1.6   \n",
       "\n",
       "                          title        type        world  \n",
       "0  Mushroom Sorter (Assessment)  Assessment  TREETOPCITY  \n",
       "1    Bird Measurer (Assessment)  Assessment  TREETOPCITY  \n",
       "2  Mushroom Sorter (Assessment)  Assessment  TREETOPCITY  \n",
       "3  Mushroom Sorter (Assessment)  Assessment  TREETOPCITY  \n",
       "4    Bird Measurer (Assessment)  Assessment  TREETOPCITY  \n",
       "\n",
       "[5 rows x 29 columns]"
      ]
     },
     "execution_count": 263,
     "metadata": {},
     "output_type": "execute_result"
    }
   ],
   "source": [
    "df_train.head()"
   ]
  },
  {
   "cell_type": "markdown",
   "metadata": {},
   "source": [
    "## Process test set"
   ]
  },
  {
   "cell_type": "code",
   "execution_count": 83,
   "metadata": {
    "ExecuteTime": {
     "end_time": "2019-11-04T20:44:10.057692Z",
     "start_time": "2019-11-04T20:42:14.232687Z"
    }
   },
   "outputs": [
    {
     "name": "stderr",
     "output_type": "stream",
     "text": [
      "100%|██████████| 1000/1000 [01:55<00:00,  8.67it/s]\n"
     ]
    },
    {
     "name": "stdout",
     "output_type": "stream",
     "text": [
      "(1000, 29)\n"
     ]
    },
    {
     "data": {
      "text/plain": [
       "False"
      ]
     },
     "execution_count": 83,
     "metadata": {},
     "output_type": "execute_result"
    }
   ],
   "source": [
    "temp_data = []\n",
    "for ins_id, user_sample in tqdm(test.groupby('installation_id', sort=False)):\n",
    "    a = feature_engineering(user_sample, test_data = True)\n",
    "    temp_data.append(a)\n",
    "    \n",
    "df_test = pd.DataFrame(temp_data)\n",
    "del temp_data\n",
    "print(df_test.shape)\n",
    "df_test['installation_id'].equals(sample_submission['installation_id'].map(installation_dict))"
   ]
  },
  {
   "cell_type": "code",
   "execution_count": 85,
   "metadata": {
    "ExecuteTime": {
     "end_time": "2019-11-04T20:46:25.350644Z",
     "start_time": "2019-11-04T20:46:25.346034Z"
    }
   },
   "outputs": [],
   "source": [
    "# df_test.to_csv('data_compiled/df_test.csv', index = False)\n",
    "# df_train.to_csv('data_compiled/df_train.csv', index = False)\n",
    "del train, test"
   ]
  },
  {
   "cell_type": "markdown",
   "metadata": {},
   "source": [
    "# Read the clean data"
   ]
  },
  {
   "cell_type": "code",
   "execution_count": 204,
   "metadata": {
    "ExecuteTime": {
     "end_time": "2019-11-04T22:28:10.355160Z",
     "start_time": "2019-11-04T22:28:10.062971Z"
    }
   },
   "outputs": [
    {
     "name": "stdout",
     "output_type": "stream",
     "text": [
      "Reading df_train.csv file....\n",
      "df_train.csv file have 17690 rows and 29 columns\n",
      "Reading df_test.csv file....\n",
      "df_test.csv file have 1000 rows and 29 columns\n"
     ]
    }
   ],
   "source": [
    "#Shape of data \n",
    "print('Reading df_train.csv file....')\n",
    "df_train = pd.read_csv('data_compiled/df_train.csv')\n",
    "print('df_train.csv file have {} rows and {} columns'\\\n",
    "      .format(df_train.shape[0], df_train.shape[1]))\n",
    "\n",
    "#Shape of data \n",
    "print('Reading df_test.csv file....')\n",
    "df_test = pd.read_csv('data_compiled/df_test.csv')\n",
    "print('df_test.csv file have {} rows and {} columns'\\\n",
    "      .format(df_test.shape[0], df_test.shape[1]))"
   ]
  },
  {
   "cell_type": "code",
   "execution_count": 155,
   "metadata": {
    "ExecuteTime": {
     "end_time": "2019-11-04T21:37:48.568755Z",
     "start_time": "2019-11-04T21:37:48.517194Z"
    }
   },
   "outputs": [
    {
     "data": {
      "text/plain": [
       "Index(['Activity', 'Assess', 'Clip', 'Cum_Activity', 'Cum_Assess', 'Cum_Clip',\n",
       "       'Cum_Game', 'Game', 'acc', 'acc_group', 'assess_dur_mean',\n",
       "       'assess_dur_std', 'assess_dur_sum', 'correct', 'cum_acc', 'cum_corr',\n",
       "       'cum_dur_activity', 'cum_dur_asses', 'cum_dur_clip', 'cum_dur_game',\n",
       "       'cum_incorrect', 'event_counter', 'game_session', 'incorrect',\n",
       "       'installation_id', 'mean_acc_group', 'title', 'type', 'world'],\n",
       "      dtype='object')"
      ]
     },
     "execution_count": 155,
     "metadata": {},
     "output_type": "execute_result"
    }
   ],
   "source": [
    "df_train.columns"
   ]
  },
  {
   "cell_type": "markdown",
   "metadata": {},
   "source": [
    "# Training Step"
   ]
  },
  {
   "cell_type": "code",
   "execution_count": 170,
   "metadata": {
    "ExecuteTime": {
     "end_time": "2019-11-04T21:47:58.844377Z",
     "start_time": "2019-11-04T21:47:58.111081Z"
    }
   },
   "outputs": [],
   "source": [
    "x_cols = [col for col in df_train.columns if col not in \n",
    "          ['correct', 'incorrect', 'acc_group', \n",
    "           'installation_id', 'game_session' ,'type']]\n",
    "y_col = ['acc_group']\n",
    "x_encoder = ['title', 'world']"
   ]
  },
  {
   "cell_type": "markdown",
   "metadata": {
    "ExecuteTime": {
     "end_time": "2019-11-04T21:09:13.981411Z",
     "start_time": "2019-11-04T21:09:13.936026Z"
    }
   },
   "source": [
    "## Convert categorical variable into dummy/indicator variables"
   ]
  },
  {
   "cell_type": "code",
   "execution_count": 205,
   "metadata": {
    "ExecuteTime": {
     "end_time": "2019-11-04T22:28:16.365437Z",
     "start_time": "2019-11-04T22:28:14.651529Z"
    }
   },
   "outputs": [
    {
     "name": "stdout",
     "output_type": "stream",
     "text": [
      "(17690, 29) (1000, 29)\n",
      "(17690, 29) (1000, 29)\n"
     ]
    }
   ],
   "source": [
    "print(df_train.shape, df_test.shape)\n",
    "df_train, df_test = Convert_LabelEncoder(df_train, df_test, x_encoder)\n",
    "print(df_train.shape, df_test.shape)"
   ]
  },
  {
   "cell_type": "code",
   "execution_count": 200,
   "metadata": {
    "ExecuteTime": {
     "end_time": "2019-11-04T22:19:15.388126Z",
     "start_time": "2019-11-04T22:19:15.330298Z"
    }
   },
   "outputs": [
    {
     "data": {
      "text/plain": [
       "(17690, 29)"
      ]
     },
     "execution_count": 200,
     "metadata": {},
     "output_type": "execute_result"
    }
   ],
   "source": [
    "df_te.shape"
   ]
  },
  {
   "cell_type": "markdown",
   "metadata": {
    "ExecuteTime": {
     "end_time": "2019-11-04T21:40:21.981558Z",
     "start_time": "2019-11-04T21:40:21.926164Z"
    }
   },
   "source": [
    "## Train random forest model"
   ]
  },
  {
   "cell_type": "code",
   "execution_count": 234,
   "metadata": {
    "ExecuteTime": {
     "end_time": "2019-11-04T23:34:50.874713Z",
     "start_time": "2019-11-04T23:28:20.293462Z"
    }
   },
   "outputs": [
    {
     "name": "stdout",
     "output_type": "stream",
     "text": [
      "The training roc_auc_score is: 1.0\n",
      "The best parameters are: {'n_estimators': 1620, 'min_samples_split': 5, 'min_samples_leaf': 4, 'max_features': 'sqrt', 'max_depth': 80, 'bootstrap': False}\n"
     ]
    }
   ],
   "source": [
    "RF_mdl = random_forest_param_selection(df_train[x_cols], \n",
    "                                       df_train[y_col].values.ravel(),\n",
    "                                       nfolds = 5, n_jobs = None)"
   ]
  },
  {
   "cell_type": "code",
   "execution_count": 235,
   "metadata": {
    "ExecuteTime": {
     "end_time": "2019-11-04T23:37:09.108307Z",
     "start_time": "2019-11-04T23:37:06.765123Z"
    }
   },
   "outputs": [
    {
     "data": {
      "text/plain": [
       "1.0"
      ]
     },
     "execution_count": 235,
     "metadata": {},
     "output_type": "execute_result"
    }
   ],
   "source": [
    "RF_mdl.score(df_train[x_cols], df_train[y_col])"
   ]
  },
  {
   "cell_type": "code",
   "execution_count": 237,
   "metadata": {
    "ExecuteTime": {
     "end_time": "2019-11-04T23:37:20.151630Z",
     "start_time": "2019-11-04T23:37:19.899438Z"
    }
   },
   "outputs": [
    {
     "data": {
      "text/plain": [
       "(1000,)"
      ]
     },
     "execution_count": 237,
     "metadata": {},
     "output_type": "execute_result"
    }
   ],
   "source": [
    "y_pred = RF_mdl.predict(df_test[x_cols])\n",
    "y_pred.shape"
   ]
  },
  {
   "cell_type": "code",
   "execution_count": 244,
   "metadata": {
    "ExecuteTime": {
     "end_time": "2019-11-04T23:38:50.220703Z",
     "start_time": "2019-11-04T23:38:50.175046Z"
    }
   },
   "outputs": [
    {
     "data": {
      "text/plain": [
       "(array([0]), array([1000]))"
      ]
     },
     "execution_count": 244,
     "metadata": {},
     "output_type": "execute_result"
    }
   ],
   "source": [
    "np.unique(y_pred, return_counts = True)"
   ]
  },
  {
   "cell_type": "code",
   "execution_count": 231,
   "metadata": {
    "ExecuteTime": {
     "end_time": "2019-11-04T22:56:09.247486Z",
     "start_time": "2019-11-04T22:56:09.194424Z"
    }
   },
   "outputs": [
    {
     "data": {
      "text/plain": [
       "3    0.500000\n",
       "0    0.239062\n",
       "1    0.136292\n",
       "2    0.124647\n",
       "Name: acc_group, dtype: float64"
      ]
     },
     "execution_count": 231,
     "metadata": {},
     "output_type": "execute_result"
    }
   ],
   "source": [
    "df_train['acc_group'].value_counts(normalize = True)"
   ]
  },
  {
   "cell_type": "code",
   "execution_count": 248,
   "metadata": {
    "ExecuteTime": {
     "end_time": "2019-11-04T23:39:45.922135Z",
     "start_time": "2019-11-04T23:39:45.869439Z"
    }
   },
   "outputs": [
    {
     "data": {
      "text/html": [
       "<div>\n",
       "<style scoped>\n",
       "    .dataframe tbody tr th:only-of-type {\n",
       "        vertical-align: middle;\n",
       "    }\n",
       "\n",
       "    .dataframe tbody tr th {\n",
       "        vertical-align: top;\n",
       "    }\n",
       "\n",
       "    .dataframe thead th {\n",
       "        text-align: right;\n",
       "    }\n",
       "</style>\n",
       "<table border=\"1\" class=\"dataframe\">\n",
       "  <thead>\n",
       "    <tr style=\"text-align: right;\">\n",
       "      <th></th>\n",
       "      <th>Activity</th>\n",
       "      <th>Assess</th>\n",
       "      <th>Clip</th>\n",
       "      <th>Cum_Activity</th>\n",
       "      <th>Cum_Assess</th>\n",
       "      <th>Cum_Clip</th>\n",
       "      <th>Cum_Game</th>\n",
       "      <th>Game</th>\n",
       "      <th>acc</th>\n",
       "      <th>assess_dur_mean</th>\n",
       "      <th>...</th>\n",
       "      <th>cum_corr</th>\n",
       "      <th>cum_dur_activity</th>\n",
       "      <th>cum_dur_asses</th>\n",
       "      <th>cum_dur_clip</th>\n",
       "      <th>cum_dur_game</th>\n",
       "      <th>cum_incorrect</th>\n",
       "      <th>event_counter</th>\n",
       "      <th>mean_acc_group</th>\n",
       "      <th>title</th>\n",
       "      <th>world</th>\n",
       "    </tr>\n",
       "  </thead>\n",
       "  <tbody>\n",
       "    <tr>\n",
       "      <th>0</th>\n",
       "      <td>0</td>\n",
       "      <td>1</td>\n",
       "      <td>0</td>\n",
       "      <td>0</td>\n",
       "      <td>0</td>\n",
       "      <td>0</td>\n",
       "      <td>0</td>\n",
       "      <td>0</td>\n",
       "      <td>1.0</td>\n",
       "      <td>0.0</td>\n",
       "      <td>...</td>\n",
       "      <td>0</td>\n",
       "      <td>0</td>\n",
       "      <td>0</td>\n",
       "      <td>0</td>\n",
       "      <td>0</td>\n",
       "      <td>0</td>\n",
       "      <td>48</td>\n",
       "      <td>0.0</td>\n",
       "      <td>4</td>\n",
       "      <td>2</td>\n",
       "    </tr>\n",
       "    <tr>\n",
       "      <th>1</th>\n",
       "      <td>0</td>\n",
       "      <td>11</td>\n",
       "      <td>0</td>\n",
       "      <td>0</td>\n",
       "      <td>1</td>\n",
       "      <td>0</td>\n",
       "      <td>4</td>\n",
       "      <td>0</td>\n",
       "      <td>0.0</td>\n",
       "      <td>5426.1</td>\n",
       "      <td>...</td>\n",
       "      <td>1</td>\n",
       "      <td>0</td>\n",
       "      <td>31011</td>\n",
       "      <td>0</td>\n",
       "      <td>185103</td>\n",
       "      <td>0</td>\n",
       "      <td>87</td>\n",
       "      <td>3.0</td>\n",
       "      <td>0</td>\n",
       "      <td>2</td>\n",
       "    </tr>\n",
       "    <tr>\n",
       "      <th>2</th>\n",
       "      <td>0</td>\n",
       "      <td>1</td>\n",
       "      <td>0</td>\n",
       "      <td>0</td>\n",
       "      <td>12</td>\n",
       "      <td>0</td>\n",
       "      <td>4</td>\n",
       "      <td>0</td>\n",
       "      <td>1.0</td>\n",
       "      <td>0.0</td>\n",
       "      <td>...</td>\n",
       "      <td>1</td>\n",
       "      <td>0</td>\n",
       "      <td>121043</td>\n",
       "      <td>0</td>\n",
       "      <td>185103</td>\n",
       "      <td>11</td>\n",
       "      <td>35</td>\n",
       "      <td>1.5</td>\n",
       "      <td>4</td>\n",
       "      <td>2</td>\n",
       "    </tr>\n",
       "    <tr>\n",
       "      <th>3</th>\n",
       "      <td>0</td>\n",
       "      <td>2</td>\n",
       "      <td>0</td>\n",
       "      <td>0</td>\n",
       "      <td>13</td>\n",
       "      <td>0</td>\n",
       "      <td>4</td>\n",
       "      <td>0</td>\n",
       "      <td>0.5</td>\n",
       "      <td>0.0</td>\n",
       "      <td>...</td>\n",
       "      <td>2</td>\n",
       "      <td>0</td>\n",
       "      <td>139069</td>\n",
       "      <td>0</td>\n",
       "      <td>185103</td>\n",
       "      <td>11</td>\n",
       "      <td>42</td>\n",
       "      <td>1.5</td>\n",
       "      <td>4</td>\n",
       "      <td>2</td>\n",
       "    </tr>\n",
       "    <tr>\n",
       "      <th>4</th>\n",
       "      <td>0</td>\n",
       "      <td>1</td>\n",
       "      <td>0</td>\n",
       "      <td>0</td>\n",
       "      <td>15</td>\n",
       "      <td>0</td>\n",
       "      <td>8</td>\n",
       "      <td>0</td>\n",
       "      <td>1.0</td>\n",
       "      <td>0.0</td>\n",
       "      <td>...</td>\n",
       "      <td>3</td>\n",
       "      <td>0</td>\n",
       "      <td>162112</td>\n",
       "      <td>0</td>\n",
       "      <td>320634</td>\n",
       "      <td>12</td>\n",
       "      <td>32</td>\n",
       "      <td>1.6</td>\n",
       "      <td>0</td>\n",
       "      <td>2</td>\n",
       "    </tr>\n",
       "  </tbody>\n",
       "</table>\n",
       "<p>5 rows × 23 columns</p>\n",
       "</div>"
      ],
      "text/plain": [
       "   Activity  Assess  Clip  Cum_Activity  Cum_Assess  Cum_Clip  Cum_Game  Game  \\\n",
       "0         0       1     0             0           0         0         0     0   \n",
       "1         0      11     0             0           1         0         4     0   \n",
       "2         0       1     0             0          12         0         4     0   \n",
       "3         0       2     0             0          13         0         4     0   \n",
       "4         0       1     0             0          15         0         8     0   \n",
       "\n",
       "   acc  assess_dur_mean  ...    cum_corr  cum_dur_activity  cum_dur_asses  \\\n",
       "0  1.0              0.0  ...           0                 0              0   \n",
       "1  0.0           5426.1  ...           1                 0          31011   \n",
       "2  1.0              0.0  ...           1                 0         121043   \n",
       "3  0.5              0.0  ...           2                 0         139069   \n",
       "4  1.0              0.0  ...           3                 0         162112   \n",
       "\n",
       "   cum_dur_clip  cum_dur_game  cum_incorrect  event_counter  mean_acc_group  \\\n",
       "0             0             0              0             48             0.0   \n",
       "1             0        185103              0             87             3.0   \n",
       "2             0        185103             11             35             1.5   \n",
       "3             0        185103             11             42             1.5   \n",
       "4             0        320634             12             32             1.6   \n",
       "\n",
       "   title  world  \n",
       "0      4      2  \n",
       "1      0      2  \n",
       "2      4      2  \n",
       "3      4      2  \n",
       "4      0      2  \n",
       "\n",
       "[5 rows x 23 columns]"
      ]
     },
     "execution_count": 248,
     "metadata": {},
     "output_type": "execute_result"
    }
   ],
   "source": [
    "df_train[x_cols].head()"
   ]
  },
  {
   "cell_type": "code",
   "execution_count": null,
   "metadata": {},
   "outputs": [],
   "source": []
  }
 ],
 "metadata": {
  "kernelspec": {
   "display_name": "Python 3",
   "language": "python",
   "name": "python3"
  },
  "language_info": {
   "codemirror_mode": {
    "name": "ipython",
    "version": 3
   },
   "file_extension": ".py",
   "mimetype": "text/x-python",
   "name": "python",
   "nbconvert_exporter": "python",
   "pygments_lexer": "ipython3",
   "version": "3.7.1"
  },
  "toc": {
   "base_numbering": 1,
   "nav_menu": {},
   "number_sections": true,
   "sideBar": true,
   "skip_h1_title": false,
   "title_cell": "Table of Contents",
   "title_sidebar": "Contents",
   "toc_cell": false,
   "toc_position": {},
   "toc_section_display": true,
   "toc_window_display": false
  },
  "varInspector": {
   "cols": {
    "lenName": 16,
    "lenType": 16,
    "lenVar": 40
   },
   "kernels_config": {
    "python": {
     "delete_cmd_postfix": "",
     "delete_cmd_prefix": "del ",
     "library": "var_list.py",
     "varRefreshCmd": "print(var_dic_list())"
    },
    "r": {
     "delete_cmd_postfix": ") ",
     "delete_cmd_prefix": "rm(",
     "library": "var_list.r",
     "varRefreshCmd": "cat(var_dic_list()) "
    }
   },
   "types_to_exclude": [
    "module",
    "function",
    "builtin_function_or_method",
    "instance",
    "_Feature"
   ],
   "window_display": false
  }
 },
 "nbformat": 4,
 "nbformat_minor": 2
}
