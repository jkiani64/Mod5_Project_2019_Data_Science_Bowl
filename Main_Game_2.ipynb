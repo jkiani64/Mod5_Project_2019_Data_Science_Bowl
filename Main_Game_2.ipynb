{
 "cells": [
  {
   "cell_type": "markdown",
   "metadata": {
    "ExecuteTime": {
     "end_time": "2019-11-04T19:27:37.829623Z",
     "start_time": "2019-11-04T19:27:37.823450Z"
    }
   },
   "source": [
    "# Introduction"
   ]
  },
  {
   "cell_type": "markdown",
   "metadata": {},
   "source": [
    "Fifth Annual Data Science Bowl will analyze digital game play to help build more effective educational media tools for children. The competition will look at advancements in early childhood education. The results will lead to better designed games and improved learning outcomes, empowering children, parents, caregivers and educators across the globe with insights into how young children learn through media and which approaches work best to help them build on foundational learning skills.\n",
    "To better understand these challenges and develop the most effective approaches to high-quality early educational media, Booz Allen Hamilton and Kaggle launched the fifth annual Data Science Bowl, the world's largest data science competition focused on social good.\n",
    "Participants will be provided with anonymous gameplay data from the PBS KIDS Measure Up! app, which was developed as a part of the CPB-PBS Ready to Learn Initiative with funding from the U.S. Department of Education. They will be tasked with **creating algorithms that utilize information about how players use the app to determine what they know and are learning from the experience**, in order to discover important relationships between their engagement with educational media and learning. The insights gleaned from these solutions will help PBS KIDS and other organizations create new solutions, content and products that help ensure each and every user has the best chance to learn important skills, helping improve childhood learning access and achievement.\n",
    "\n",
    "**Learning Path**\n",
    "Exposure ---> Exploration ---> Practice ---> Demonstration(as in demonstration of knowledge)\n",
    "In the PBS KIDS Measure Up! app, **children ages 3 to 5** learn early **STEM concepts focused on length, width, capacity, and weight** while going on an adventure through Treetop City, Magma Peak, and Crystal Caves. Joined by their favorite PBS KIDS characters from Dinosaur Train, Peg + Cat, and Sid the Science Kid, children can also collect rewards and unlock digital toys as they play. At the same time, caregivers can monitor and expand upon what their child is learning using a free companion app: PBS KIDS Super Vision.\n",
    "Parents can track the skills in which their kids excel, and the skills where they may need more practice. The app also provides tips and related activity ideas to extend learning into daily activities and family time.\n",
    "The PBS KIDS Measure Up! app, children navigate a map and complete various levels(media types):\n",
    "  1. Clip(Exposure)\n",
    "     - Interstitials/Introductory\n",
    "     - Longer(2-3 Minutes)/Familiar with problem\n",
    "  2. Activities(Practice): No subjective/There is cause and effect\n",
    "  3. Games(Practice): with the goal of solving problems/ There is an option of replay\n",
    "  4. Assessments(Measure player's knowledge/skills): number of incommect and number of accuracy group\n",
    "       * Bird Measurer\n",
    "       * Cart Balancer\n",
    "       * Cauldron Filler\n",
    "       * Chest Sorter\n",
    "       * Mushroom Sorter\n",
    "world - The section of the application the game or video belongs to. Helpful to identify the educational curriculum goals of the media. Possible values are: 'NONE' (at the app's start screen), TREETOPCITY' (Length/Height), 'MAGMAPEAK' (Capacity/Displacement), 'CRYSTALCAVES' (Weight).\n",
    "The intent of the competition is to use the gameplay data to forecast how many attempts a child will take to pass a given assessment (an incorrect answer is counted as an attempt).\n",
    "Each application install is represented by an installation_id. This will typically correspond to one child, but you should expect noise from issues such as shared devices.\n",
    "Note that the training set contains many installation_ids which never took assessments, whereas every installation_id in the test set made an attempt on at least one assessment.\n",
    "The outcomes in this competition are grouped into 4 groups (labeled accuracy_group in the data):\n",
    "\n",
    "3: the assessment was solved on the first attempt\n",
    "\n",
    "2: the assessment was solved on the second attempt\n",
    "\n",
    "1: the assessment was solved after 3 or more attempts\n",
    "\n",
    "0: the assessment was never solved"
   ]
  },
  {
   "cell_type": "markdown",
   "metadata": {
    "ExecuteTime": {
     "end_time": "2019-11-04T19:24:04.633500Z",
     "start_time": "2019-11-04T19:24:04.628881Z"
    }
   },
   "source": [
    "# Load the required Libararies "
   ]
  },
  {
   "cell_type": "code",
   "execution_count": 139,
   "metadata": {
    "ExecuteTime": {
     "end_time": "2019-11-06T04:04:42.118431Z",
     "start_time": "2019-11-06T04:04:42.042547Z"
    }
   },
   "outputs": [
    {
     "name": "stdout",
     "output_type": "stream",
     "text": [
      "The autoreload extension is already loaded. To reload it, use:\n",
      "  %reload_ext autoreload\n"
     ]
    }
   ],
   "source": [
    "import numpy as np\n",
    "from tqdm import tqdm\n",
    "import json\n",
    "import pandas as pd\n",
    "import os\n",
    "import gc\n",
    "from sklearn.model_selection import KFold\n",
    "#import lightgbm as lgb\n",
    "from training import *\n",
    "import warnings\n",
    "warnings.simplefilter(action='ignore', category=FutureWarning)\n",
    "from data_processing import *\n",
    "from visualizations import *\n",
    "%load_ext autoreload\n",
    "%autoreload 2"
   ]
  },
  {
   "cell_type": "markdown",
   "metadata": {},
   "source": [
    "# Download the data using Kaggle API"
   ]
  },
  {
   "cell_type": "code",
   "execution_count": null,
   "metadata": {
    "ExecuteTime": {
     "end_time": "2019-11-05T15:00:26.332549Z",
     "start_time": "2019-11-05T15:00:24.843639Z"
    }
   },
   "outputs": [],
   "source": [
    "# Download the dataset\n",
    "#!kaggle competitions list\n",
    "#!kaggle competitions download -c data-science-bowl-2019\n",
    "#check submissions status\n",
    "!kaggle competitions submissions  -c data-science-bowl-2019\n"
   ]
  },
  {
   "cell_type": "markdown",
   "metadata": {},
   "source": [
    "# Read the input Data"
   ]
  },
  {
   "cell_type": "code",
   "execution_count": 130,
   "metadata": {
    "ExecuteTime": {
     "end_time": "2019-11-05T23:56:53.864900Z",
     "start_time": "2019-11-05T23:55:16.528547Z"
    }
   },
   "outputs": [
    {
     "name": "stdout",
     "output_type": "stream",
     "text": [
      "Reading train.csv file....\n",
      "Training.csv file have 11341042 rows and 11 columns\n",
      "Reading test.csv file....\n",
      "Test.csv file have 1156414 rows and 11 columns\n",
      "Reading train_labels.csv file....\n",
      "Train_labels.csv file have 17690 rows and 7 columns\n",
      "Reading specs.csv file....\n",
      "Specs.csv file have 386 rows and 3 columns\n",
      "Reading sample_submission.csv file....\n",
      "Sample_submission.csv file have 1000 rows and 2 columns\n"
     ]
    }
   ],
   "source": [
    "#Shape of data \n",
    "print('Reading train.csv file....')\n",
    "train = pd.read_csv('data/train.csv')\n",
    "print('Training.csv file have {} rows and {} columns'.format(train.shape[0], train.shape[1]))\n",
    "\n",
    "print('Reading test.csv file....')\n",
    "test = pd.read_csv('data/test.csv')\n",
    "print('Test.csv file have {} rows and {} columns'.format(test.shape[0], test.shape[1]))\n",
    "\n",
    "print('Reading train_labels.csv file....')\n",
    "train_labels = pd.read_csv('data/train_labels.csv')\n",
    "print('Train_labels.csv file have {} rows and {} columns'.format(train_labels.shape[0], train_labels.shape[1]))\n",
    "\n",
    "print('Reading specs.csv file....')\n",
    "specs = pd.read_csv('data/specs.csv')\n",
    "print('Specs.csv file have {} rows and {} columns'.format(specs.shape[0], specs.shape[1]))\n",
    "\n",
    "print('Reading sample_submission.csv file....')\n",
    "sample_submission = pd.read_csv('data/sample_submission.csv')\n",
    "print('Sample_submission.csv file have {} rows and {} columns'.format(sample_submission.shape[0], sample_submission.shape[1]))"
   ]
  },
  {
   "cell_type": "markdown",
   "metadata": {
    "ExecuteTime": {
     "end_time": "2019-11-04T19:24:58.722665Z",
     "start_time": "2019-11-04T19:24:58.716507Z"
    }
   },
   "source": [
    "# Data Processing "
   ]
  },
  {
   "cell_type": "code",
   "execution_count": 137,
   "metadata": {
    "ExecuteTime": {
     "end_time": "2019-11-06T04:01:53.338492Z",
     "start_time": "2019-11-06T04:01:51.714334Z"
    }
   },
   "outputs": [],
   "source": [
    "# encode title\n",
    "# make a list with all the unique 'titles' from the train and test set\n",
    "list_of_user_activities = list(set(train['title'].value_counts().index).union(set(test['title'].value_counts().index)))\n",
    "# create a dictionary numerating the titles\n",
    "activities_map = dict(zip(list_of_user_activities, np.arange(len(list_of_user_activities))))\n",
    "\n",
    "# replace the text titles withing the number titles from the dict\n",
    "train['title'] = train['title'].map(activities_map)\n",
    "test['title'] = test['title'].map(activities_map)\n",
    "train_labels['title'] = train_labels['title'].map(activities_map)\n",
    "\n",
    "win_code = dict(zip(activities_map.values(), (4100*np.ones(len(activities_map))).astype('int')))\n",
    "# then, it set one element, the 'Bird Measurer (Assessment)' as 4110, 10 more than the rest\n",
    "win_code[activities_map['Bird Measurer (Assessment)']] = 4110"
   ]
  },
  {
   "cell_type": "code",
   "execution_count": 170,
   "metadata": {
    "ExecuteTime": {
     "end_time": "2019-11-06T15:43:00.490872Z",
     "start_time": "2019-11-06T15:42:09.056873Z"
    }
   },
   "outputs": [],
   "source": [
    "# convert text into datetime\n",
    "train['timestamp'] = pd.to_datetime(train['timestamp'])\n",
    "test['timestamp'] = pd.to_datetime(test['timestamp'])"
   ]
  },
  {
   "cell_type": "code",
   "execution_count": 172,
   "metadata": {
    "ExecuteTime": {
     "end_time": "2019-11-06T15:43:31.049587Z",
     "start_time": "2019-11-06T15:43:30.922287Z"
    }
   },
   "outputs": [],
   "source": [
    "import pandas as pd\n",
    "import numpy as np\n",
    "\n",
    "\n",
    "def get_data(user_sample, test_set=False):\n",
    "    '''\n",
    "    The user_sample is a DataFrame from train or test where the only one \n",
    "    installation_id is filtered\n",
    "    And the test_set parameter is related with the labels processing, that is only requered\n",
    "    if test_set=False\n",
    "    '''\n",
    "    # Constants and parameters declaration\n",
    "    last_activity = 0\n",
    "    user_activities_count = {'Clip':0, 'Activity': 0, 'Assessment': 0, 'Game':0}\n",
    "    accuracy_groups = {0:0, 1:0, 2:0, 3:0}\n",
    "    all_assessments = []\n",
    "    accumulated_accuracy_group = 0\n",
    "    accumulated_accuracy=0\n",
    "    accumulated_correct_attempts = 0 \n",
    "    accumulated_uncorrect_attempts = 0 \n",
    "    accumulated_actions = 0\n",
    "    counter = 0\n",
    "    durations = []\n",
    "    # itarates through each session of one instalation_id\n",
    "    for i, session in user_sample.groupby('game_session', sort=False):\n",
    "        # i = game_session_id\n",
    "        # session is a DataFrame that contain only one game_session\n",
    "        \n",
    "        # get some sessions information\n",
    "        session_type = session['type'].iloc[0]\n",
    "        session_title = session['title'].iloc[0]\n",
    "        session_world = session['world'].iloc[0]\n",
    "        \n",
    "        # for each assessment, and only this kind off session, the features below are processed\n",
    "        # and a register are generated\n",
    "        if (session_type == 'Assessment') & (test_set or len(session)>1):\n",
    "            # search for event_code 4100, that represents the assessments trial\n",
    "            all_attempts = session.query(f'event_code == {win_code[session_title]}')\n",
    "            # then, check the numbers of wins and the number of losses\n",
    "            true_attempts = all_attempts['event_data'].str.contains('true').sum()\n",
    "            false_attempts = all_attempts['event_data'].str.contains('false').sum()\n",
    "            # copy a dict to use as feature template, it's initialized with some itens: \n",
    "            # {'Clip':0, 'Activity': 0, 'Assessment': 0, 'Game':0}\n",
    "            features = user_activities_count.copy()\n",
    "            # add title as feature, remembering that title represents the name of the game\n",
    "            features['session_title'] = session['title'].iloc[0] \n",
    "            features['session_world'] = session['world'].iloc[0] \n",
    "            # the 4 lines below add the feature of the history of the trials of this player\n",
    "            # this is based on the all time attempts so far, at the moment of this assessment\n",
    "            features['accumulated_correct_attempts'] = accumulated_correct_attempts\n",
    "            features['accumulated_uncorrect_attempts'] = accumulated_uncorrect_attempts\n",
    "            accumulated_correct_attempts += true_attempts \n",
    "            accumulated_uncorrect_attempts += false_attempts\n",
    "            # the time spent in the app so far\n",
    "            if durations == []:\n",
    "                features['duration_mean'] = 0\n",
    "            else:\n",
    "                features['duration_mean'] = np.mean(durations)\n",
    "            durations.append((session.iloc[-1, 2] - session.iloc[0, 2] ).seconds)\n",
    "            # the accurace is the all time wins divided by the all time attempts\n",
    "            features['accumulated_accuracy'] = accumulated_accuracy/counter if counter > 0 else 0\n",
    "            accuracy = true_attempts/(true_attempts+false_attempts) if (true_attempts+false_attempts) != 0 else 0\n",
    "            accumulated_accuracy += accuracy\n",
    "            # a feature of the current accuracy categorized\n",
    "            # it is a counter of how many times this player was in each accuracy group\n",
    "            if accuracy == 0:\n",
    "                features['accuracy_group'] = 0\n",
    "            elif accuracy == 1:\n",
    "                features['accuracy_group'] = 3\n",
    "            elif accuracy == 0.5:\n",
    "                features['accuracy_group'] = 2\n",
    "            else:\n",
    "                features['accuracy_group'] = 1\n",
    "            features.update(accuracy_groups)\n",
    "            accuracy_groups[features['accuracy_group']] += 1\n",
    "            # mean of the all accuracy groups of this player\n",
    "            features['accumulated_accuracy_group'] = accumulated_accuracy_group/counter if counter > 0 else 0\n",
    "            accumulated_accuracy_group += features['accuracy_group']\n",
    "            # how many actions the player has done so far, it is initialized as 0 and updated some lines below\n",
    "            features['accumulated_actions'] = accumulated_actions\n",
    "            \n",
    "            # there are some conditions to allow this features to be inserted in the datasets\n",
    "            # if it's a test set, all sessions belong to the final dataset\n",
    "            # it it's a train, needs to be passed throught this clausule: session.query(f'event_code == {win_code[session_title]}')\n",
    "            # that means, must exist an event_code 4100 or 4110\n",
    "            if test_set:\n",
    "                all_assessments.append(features)\n",
    "            elif true_attempts+false_attempts > 0:\n",
    "                all_assessments.append(features)\n",
    "                \n",
    "            counter += 1\n",
    "\n",
    "        # counts how many actions the player has done so far, used in the feature of the same name\n",
    "        accumulated_actions += len(session)\n",
    "        if last_activity != session_type:\n",
    "            user_activities_count[session_type] += 1\n",
    "            last_activitiy = session_type\n",
    "    # if it't the test_set, only the last assessment must be predicted, the previous are scraped\n",
    "    if test_set:\n",
    "        return all_assessments[-1]\n",
    "    # in the train_set, all assessments goes to the dataset\n",
    "    return all_assessments"
   ]
  },
  {
   "cell_type": "markdown",
   "metadata": {},
   "source": [
    "## Process train set"
   ]
  },
  {
   "cell_type": "code",
   "execution_count": null,
   "metadata": {
    "ExecuteTime": {
     "end_time": "2019-11-05T19:34:17.651581Z",
     "start_time": "2019-11-05T19:21:06.432804Z"
    },
    "scrolled": true
   },
   "outputs": [],
   "source": [
    "# here the get_data function is applyed to each installation_id and added to the compile_data list\n",
    "compiled_data = []\n",
    "# tqdm is the library that draws the status bar below\n",
    "for i, (ins_id, user_sample) in tqdm(enumerate(train.groupby('installation_id', sort=False)), total=17000):\n",
    "    # user_sample is a DataFrame that contains only one installation_id\n",
    "    compiled_data += get_data(user_sample)\n",
    "\n",
    "# the compiled_data is converted to DataFrame and deleted to save memmory\n",
    "new_train = pd.DataFrame(compiled_data)\n",
    "del compiled_data\n",
    "new_train.shape"
   ]
  },
  {
   "cell_type": "code",
   "execution_count": null,
   "metadata": {
    "ExecuteTime": {
     "end_time": "2019-11-05T19:37:13.812762Z",
     "start_time": "2019-11-05T19:37:13.614327Z"
    },
    "scrolled": true
   },
   "outputs": [],
   "source": [
    "new_train.head()"
   ]
  },
  {
   "cell_type": "markdown",
   "metadata": {},
   "source": [
    "## Process test set"
   ]
  },
  {
   "cell_type": "code",
   "execution_count": null,
   "metadata": {
    "ExecuteTime": {
     "end_time": "2019-11-05T19:40:31.750864Z",
     "start_time": "2019-11-05T19:39:57.321579Z"
    }
   },
   "outputs": [],
   "source": [
    "# process test set, the same that was done with the train set\n",
    "new_test = []\n",
    "for ins_id, user_sample in tqdm(test.groupby('installation_id', sort=False), total=1000):\n",
    "    a = get_data(user_sample, test_set=True)\n",
    "    new_test.append(a)\n",
    "    \n",
    "X_test = pd.DataFrame(new_test)\n",
    "del test"
   ]
  },
  {
   "cell_type": "code",
   "execution_count": null,
   "metadata": {
    "ExecuteTime": {
     "end_time": "2019-11-05T19:44:27.118722Z",
     "start_time": "2019-11-05T19:44:26.741467Z"
    }
   },
   "outputs": [],
   "source": [
    "X_test.to_csv('data_compiled/df_testM.csv', index = False)\n",
    "new_train.to_csv('data_compiled/df_trainM.csv', index = False)"
   ]
  },
  {
   "cell_type": "markdown",
   "metadata": {},
   "source": [
    "# Read the clean data"
   ]
  },
  {
   "cell_type": "code",
   "execution_count": 2,
   "metadata": {
    "ExecuteTime": {
     "end_time": "2019-11-05T21:17:50.545527Z",
     "start_time": "2019-11-05T21:17:50.474011Z"
    }
   },
   "outputs": [
    {
     "name": "stdout",
     "output_type": "stream",
     "text": [
      "Reading df_train.csv file....\n",
      "df_train.csv file have 17690 rows and 16 columns\n",
      "Reading df_test.csv file....\n",
      "df_test.csv file have 1000 rows and 16 columns\n"
     ]
    }
   ],
   "source": [
    "#Shape of data \n",
    "print('Reading df_train.csv file....')\n",
    "df_train = pd.read_csv('data_compiled/df_trainM.csv')\n",
    "print('df_train.csv file have {} rows and {} columns'\\\n",
    "      .format(df_train.shape[0], df_train.shape[1]))\n",
    "\n",
    "#Shape of data \n",
    "print('Reading df_test.csv file....')\n",
    "df_test = pd.read_csv('data_compiled/df_testM.csv')\n",
    "print('df_test.csv file have {} rows and {} columns'\\\n",
    "      .format(df_test.shape[0], df_test.shape[1]))"
   ]
  },
  {
   "cell_type": "markdown",
   "metadata": {},
   "source": [
    "# Training Step"
   ]
  },
  {
   "cell_type": "code",
   "execution_count": 4,
   "metadata": {
    "ExecuteTime": {
     "end_time": "2019-11-05T21:18:40.379900Z",
     "start_time": "2019-11-05T21:18:40.365765Z"
    }
   },
   "outputs": [],
   "source": [
    "# this list comprehension create the list of features that will be used on the input dataset X\n",
    "# all but accuracy_group, that is the label y\n",
    "all_features = [x for x in df_train.columns if x not in ['accuracy_group']]\n",
    "# this cat_feature must be declared to pass later as parameter to fit the model\n",
    "cat_features = ['session_title']\n",
    "# here the dataset select the features and split the input ant the labels\n",
    "X, y = df_train[all_features], df_train['accuracy_group']\n",
    "X_test = df_test[all_features]"
   ]
  },
  {
   "cell_type": "markdown",
   "metadata": {
    "ExecuteTime": {
     "end_time": "2019-11-04T21:40:21.981558Z",
     "start_time": "2019-11-04T21:40:21.926164Z"
    }
   },
   "source": [
    "## Train random forest model"
   ]
  },
  {
   "cell_type": "code",
   "execution_count": 19,
   "metadata": {
    "ExecuteTime": {
     "end_time": "2019-11-05T22:01:10.287274Z",
     "start_time": "2019-11-05T21:49:57.163547Z"
    }
   },
   "outputs": [
    {
     "name": "stdout",
     "output_type": "stream",
     "text": [
      "The training roc_auc_score is: 0.33\n",
      "The best parameters are: {'n_estimators': 480, 'min_samples_split': 10, 'min_samples_leaf': 4, 'max_features': 'auto', 'max_depth': 20, 'bootstrap': True}\n"
     ]
    }
   ],
   "source": [
    "RF_mdl, pred_RF = random_forest_param_selection(X, y, X_test, nfolds = 5, n_jobs = -1)"
   ]
  },
  {
   "cell_type": "code",
   "execution_count": 21,
   "metadata": {
    "ExecuteTime": {
     "end_time": "2019-11-05T22:03:00.928661Z",
     "start_time": "2019-11-05T22:03:00.847820Z"
    }
   },
   "outputs": [
    {
     "data": {
      "text/plain": [
       "3    759\n",
       "0    214\n",
       "1     25\n",
       "2      2\n",
       "Name: accuracy_group, dtype: int64"
      ]
     },
     "execution_count": 21,
     "metadata": {},
     "output_type": "execute_result"
    }
   ],
   "source": [
    "sample_submission = pd.read_csv('data/sample_submission.csv')\n",
    "sample_submission['accuracy_group'] = np.round(pred_RF).astype('int')\n",
    "sample_submission.to_csv('sample_submission_RF.csv', index=False)\n",
    "sample_submission['accuracy_group'].value_counts()"
   ]
  },
  {
   "cell_type": "markdown",
   "metadata": {
    "ExecuteTime": {
     "end_time": "2019-11-05T21:09:54.900014Z",
     "start_time": "2019-11-05T21:09:54.850026Z"
    }
   },
   "source": [
    "## Train XGBOOST model"
   ]
  },
  {
   "cell_type": "code",
   "execution_count": 12,
   "metadata": {
    "ExecuteTime": {
     "end_time": "2019-11-05T21:24:09.057607Z",
     "start_time": "2019-11-05T21:23:21.933230Z"
    }
   },
   "outputs": [
    {
     "name": "stdout",
     "output_type": "stream",
     "text": [
      "choen_kappa_score : 0.5074261469906407\n",
      "choen_kappa_score : 0.5023391967160983\n",
      "choen_kappa_score : 0.4965092376410316\n",
      "choen_kappa_score : 0.5050553838646674\n",
      "choen_kappa_score : 0.5116627460451013\n",
      "Mean score: 0.5045985422515079\n"
     ]
    }
   ],
   "source": [
    "xgb_model,pred_xgb = model_XGBOOST(X, y,X_test,5)"
   ]
  },
  {
   "cell_type": "code",
   "execution_count": 18,
   "metadata": {
    "ExecuteTime": {
     "end_time": "2019-11-05T21:46:52.862173Z",
     "start_time": "2019-11-05T21:46:52.777121Z"
    }
   },
   "outputs": [
    {
     "data": {
      "text/html": [
       "<div>\n",
       "<style scoped>\n",
       "    .dataframe tbody tr th:only-of-type {\n",
       "        vertical-align: middle;\n",
       "    }\n",
       "\n",
       "    .dataframe tbody tr th {\n",
       "        vertical-align: top;\n",
       "    }\n",
       "\n",
       "    .dataframe thead th {\n",
       "        text-align: right;\n",
       "    }\n",
       "</style>\n",
       "<table border=\"1\" class=\"dataframe\">\n",
       "  <thead>\n",
       "    <tr style=\"text-align: right;\">\n",
       "      <th></th>\n",
       "      <th>installation_id</th>\n",
       "      <th>accuracy_group</th>\n",
       "    </tr>\n",
       "  </thead>\n",
       "  <tbody>\n",
       "    <tr>\n",
       "      <th>0</th>\n",
       "      <td>00abaee7</td>\n",
       "      <td>3</td>\n",
       "    </tr>\n",
       "    <tr>\n",
       "      <th>1</th>\n",
       "      <td>01242218</td>\n",
       "      <td>3</td>\n",
       "    </tr>\n",
       "    <tr>\n",
       "      <th>2</th>\n",
       "      <td>017c5718</td>\n",
       "      <td>3</td>\n",
       "    </tr>\n",
       "    <tr>\n",
       "      <th>3</th>\n",
       "      <td>01a44906</td>\n",
       "      <td>3</td>\n",
       "    </tr>\n",
       "    <tr>\n",
       "      <th>4</th>\n",
       "      <td>01bc6cb6</td>\n",
       "      <td>3</td>\n",
       "    </tr>\n",
       "  </tbody>\n",
       "</table>\n",
       "</div>"
      ],
      "text/plain": [
       "  installation_id  accuracy_group\n",
       "0        00abaee7               3\n",
       "1        01242218               3\n",
       "2        017c5718               3\n",
       "3        01a44906               3\n",
       "4        01bc6cb6               3"
      ]
     },
     "execution_count": 18,
     "metadata": {},
     "output_type": "execute_result"
    }
   ],
   "source": [
    "sample_submission = pd.read_csv('data/sample_submission.csv')\n",
    "sample_submission['accuracy_group'] = np.round(pred_xgb).astype('int')\n",
    "sample_submission.to_csv('sample_submission_xgb.csv', index=False)\n",
    "sample_submission.head()"
   ]
  },
  {
   "cell_type": "code",
   "execution_count": 169,
   "metadata": {
    "ExecuteTime": {
     "end_time": "2019-11-06T15:30:59.895463Z",
     "start_time": "2019-11-06T15:30:58.054947Z"
    }
   },
   "outputs": [
    {
     "data": {
      "image/png": "[encoded data removed]",
      "text/plain": [
       "<Figure size 720x720 with 1 Axes>"
      ]
     },
     "metadata": {},
     "output_type": "display_data"
    }
   ],
   "source": [
    "xgb_feature_imp = xgb_model.get_score(importance_type='total_cover')\n",
    "df_imp = pd.DataFrame(xgb_feature_imp, index=[0])\n",
    "df_imp.columns = ['Title', 'Accuracy group', 'Clip', 'Duration',\n",
    "                  'Activity', 'Game', 'Accuracy', 'Assessment',\n",
    "                  'Incorrect Attempts', 'Accuracy G2', \n",
    "                  'Correct Attempts', 'Accuracy G1', \n",
    "                  'Accumulated Actions', 'Accuracy G3', 'Accuracy G0']\n",
    "df_imp = df_imp.div(df_imp.sum(1), axis=0)\n",
    "\n",
    "# Create a color palette:\n",
    "my_palette = plt.cm.get_cmap(\"Set2\", len(df.index))\n",
    "    \n",
    "# Loop to plot\n",
    "for row in range(0, len(df_imp.index)):\n",
    "    make_spider(df_imp,  row=row, title='Feature Importance', color=my_palette(row))\n",
    "plt.savefig(f'img/feature_importance_xgb.png', dpi = 300, bbox_inches = 'tight')"
   ]
  },
  {
   "cell_type": "markdown",
   "metadata": {
    "ExecuteTime": {
     "end_time": "2019-11-05T21:46:17.398523Z",
     "start_time": "2019-11-05T21:46:17.355889Z"
    }
   },
   "source": [
    "## Train CATBOOSTING model"
   ]
  },
  {
   "cell_type": "code",
   "execution_count": 14,
   "metadata": {
    "ExecuteTime": {
     "end_time": "2019-11-05T21:36:12.912720Z",
     "start_time": "2019-11-05T21:34:10.042296Z"
    }
   },
   "outputs": [
    {
     "name": "stdout",
     "output_type": "stream",
     "text": [
      "Training on fold 1\n",
      "0:\tlearn: 0.4382062\ttest: 0.4410011\tbest: 0.4410011 (0)\ttotal: 70.5ms\tremaining: 7m 3s\n",
      "500:\tlearn: 0.5291617\ttest: 0.5130889\tbest: 0.5144572 (484)\ttotal: 7.04s\tremaining: 1m 17s\n",
      "Stopped by overfitting detector  (500 iterations wait)\n",
      "\n",
      "bestTest = 0.5144571649\n",
      "bestIteration = 484\n",
      "\n",
      "Shrink model to first 485 iterations.\n",
      "Fold 1 finished in 0:00:13.711837\n",
      "____________________________________________________________________________________________\n",
      "\n",
      "------------------------------\n",
      "OOF QWK: 0.07450997421597794\n",
      "------------------------------\n",
      "Training on fold 2\n",
      "0:\tlearn: 0.4661891\ttest: 0.4367465\tbest: 0.4367465 (0)\ttotal: 19.9ms\tremaining: 1m 59s\n",
      "500:\tlearn: 0.5304536\ttest: 0.5055979\tbest: 0.5056277 (482)\ttotal: 5.38s\tremaining: 59.1s\n",
      "1000:\tlearn: 0.5600270\ttest: 0.5031572\tbest: 0.5115098 (713)\ttotal: 10.7s\tremaining: 53.5s\n",
      "Stopped by overfitting detector  (500 iterations wait)\n",
      "\n",
      "bestTest = 0.5115097816\n",
      "bestIteration = 713\n",
      "\n",
      "Shrink model to first 714 iterations.\n",
      "Fold 2 finished in 0:00:13.482491\n",
      "____________________________________________________________________________________________\n",
      "\n",
      "------------------------------\n",
      "OOF QWK: 0.15701647111078676\n",
      "------------------------------\n",
      "Training on fold 3\n",
      "0:\tlearn: 0.4550092\ttest: 0.4624937\tbest: 0.4624937 (0)\ttotal: 15.6ms\tremaining: 1m 33s\n",
      "500:\tlearn: 0.5276509\ttest: 0.5144441\tbest: 0.5152761 (494)\ttotal: 6.21s\tremaining: 1m 8s\n",
      "1000:\tlearn: 0.5581441\ttest: 0.5153962\tbest: 0.5192497 (572)\ttotal: 12.1s\tremaining: 1m\n",
      "Stopped by overfitting detector  (500 iterations wait)\n",
      "\n",
      "bestTest = 0.5192497077\n",
      "bestIteration = 572\n",
      "\n",
      "Shrink model to first 573 iterations.\n",
      "Fold 3 finished in 0:00:13.226854\n",
      "____________________________________________________________________________________________\n",
      "\n",
      "------------------------------\n",
      "OOF QWK: 0.2541181921939435\n",
      "------------------------------\n",
      "Training on fold 4\n",
      "0:\tlearn: 0.4458962\ttest: 0.4484665\tbest: 0.4484665 (0)\ttotal: 16.1ms\tremaining: 1m 36s\n",
      "500:\tlearn: 0.5247754\ttest: 0.5053772\tbest: 0.5082091 (477)\ttotal: 6.19s\tremaining: 1m 7s\n",
      "1000:\tlearn: 0.5578309\ttest: 0.5232240\tbest: 0.5232240 (999)\ttotal: 12.4s\tremaining: 1m 1s\n",
      "1500:\tlearn: 0.5810940\ttest: 0.5315317\tbest: 0.5326753 (1474)\ttotal: 20.6s\tremaining: 1m 1s\n",
      "2000:\tlearn: 0.6000257\ttest: 0.5307904\tbest: 0.5357111 (1782)\ttotal: 29s\tremaining: 57.9s\n",
      "2500:\tlearn: 0.6180766\ttest: 0.5351244\tbest: 0.5370654 (2334)\ttotal: 36.7s\tremaining: 51.3s\n",
      "3000:\tlearn: 0.6362003\ttest: 0.5359654\tbest: 0.5384796 (2986)\ttotal: 45s\tremaining: 45s\n",
      "Stopped by overfitting detector  (500 iterations wait)\n",
      "\n",
      "bestTest = 0.5384795742\n",
      "bestIteration = 2986\n",
      "\n",
      "Shrink model to first 2987 iterations.\n",
      "Fold 4 finished in 0:00:54.931345\n",
      "____________________________________________________________________________________________\n",
      "\n",
      "------------------------------\n",
      "OOF QWK: 0.3813883813259862\n",
      "------------------------------\n",
      "Training on fold 5\n",
      "0:\tlearn: 0.4577041\ttest: 0.4613011\tbest: 0.4613011 (0)\ttotal: 37.8ms\tremaining: 3m 47s\n",
      "500:\tlearn: 0.5279995\ttest: 0.4976545\tbest: 0.4983404 (494)\ttotal: 8.79s\tremaining: 1m 36s\n",
      "1000:\tlearn: 0.5572288\ttest: 0.5062547\tbest: 0.5062838 (997)\ttotal: 15.7s\tremaining: 1m 18s\n",
      "1500:\tlearn: 0.5805229\ttest: 0.5066930\tbest: 0.5089107 (1326)\ttotal: 22.4s\tremaining: 1m 7s\n",
      "Stopped by overfitting detector  (500 iterations wait)\n",
      "\n",
      "bestTest = 0.5089107212\n",
      "bestIteration = 1326\n",
      "\n",
      "Shrink model to first 1327 iterations.\n",
      "Fold 5 finished in 0:00:27.117355\n",
      "____________________________________________________________________________________________\n",
      "\n",
      "------------------------------\n",
      "OOF QWK: 0.5184418042843262\n",
      "------------------------------\n"
     ]
    }
   ],
   "source": [
    "cat_models,pred_cat = cat_boosting(X, y,X_test, all_features)"
   ]
  },
  {
   "cell_type": "code",
   "execution_count": 16,
   "metadata": {
    "ExecuteTime": {
     "end_time": "2019-11-05T21:45:47.531765Z",
     "start_time": "2019-11-05T21:45:47.453773Z"
    }
   },
   "outputs": [
    {
     "data": {
      "text/html": [
       "<div>\n",
       "<style scoped>\n",
       "    .dataframe tbody tr th:only-of-type {\n",
       "        vertical-align: middle;\n",
       "    }\n",
       "\n",
       "    .dataframe tbody tr th {\n",
       "        vertical-align: top;\n",
       "    }\n",
       "\n",
       "    .dataframe thead th {\n",
       "        text-align: right;\n",
       "    }\n",
       "</style>\n",
       "<table border=\"1\" class=\"dataframe\">\n",
       "  <thead>\n",
       "    <tr style=\"text-align: right;\">\n",
       "      <th></th>\n",
       "      <th>installation_id</th>\n",
       "      <th>accuracy_group</th>\n",
       "    </tr>\n",
       "  </thead>\n",
       "  <tbody>\n",
       "    <tr>\n",
       "      <th>0</th>\n",
       "      <td>00abaee7</td>\n",
       "      <td>3</td>\n",
       "    </tr>\n",
       "    <tr>\n",
       "      <th>1</th>\n",
       "      <td>01242218</td>\n",
       "      <td>3</td>\n",
       "    </tr>\n",
       "    <tr>\n",
       "      <th>2</th>\n",
       "      <td>017c5718</td>\n",
       "      <td>3</td>\n",
       "    </tr>\n",
       "    <tr>\n",
       "      <th>3</th>\n",
       "      <td>01a44906</td>\n",
       "      <td>3</td>\n",
       "    </tr>\n",
       "    <tr>\n",
       "      <th>4</th>\n",
       "      <td>01bc6cb6</td>\n",
       "      <td>3</td>\n",
       "    </tr>\n",
       "  </tbody>\n",
       "</table>\n",
       "</div>"
      ],
      "text/plain": [
       "  installation_id  accuracy_group\n",
       "0        00abaee7               3\n",
       "1        01242218               3\n",
       "2        017c5718               3\n",
       "3        01a44906               3\n",
       "4        01bc6cb6               3"
      ]
     },
     "execution_count": 16,
     "metadata": {},
     "output_type": "execute_result"
    }
   ],
   "source": [
    "sample_submission = pd.read_csv('data/sample_submission.csv')\n",
    "sample_submission['accuracy_group'] = np.round(pred_cat).astype('int')\n",
    "sample_submission.to_csv('sample_submission_cat.csv', index=False)\n",
    "sample_submission.head()"
   ]
  },
  {
   "cell_type": "code",
   "execution_count": 140,
   "metadata": {
    "ExecuteTime": {
     "end_time": "2019-11-06T04:06:30.254264Z",
     "start_time": "2019-11-06T04:06:30.208475Z"
    }
   },
   "outputs": [
    {
     "data": {
      "text/plain": [
       "5"
      ]
     },
     "execution_count": 140,
     "metadata": {},
     "output_type": "execute_result"
    }
   ],
   "source": [
    "X['session_title'].nunique()"
   ]
  },
  {
   "cell_type": "code",
   "execution_count": 141,
   "metadata": {
    "ExecuteTime": {
     "end_time": "2019-11-06T04:07:25.021151Z",
     "start_time": "2019-11-06T04:07:24.921503Z"
    }
   },
   "outputs": [
    {
     "name": "stderr",
     "output_type": "stream",
     "text": [
      "/anaconda3/lib/python3.7/site-packages/pandas/core/frame.py:4117: SettingWithCopyWarning: \n",
      "A value is trying to be set on a copy of a slice from a DataFrame\n",
      "\n",
      "See the caveats in the documentation: http://pandas.pydata.org/pandas-docs/stable/user_guide/indexing.html#returning-a-view-versus-a-copy\n",
      "  errors=errors,\n"
     ]
    }
   ],
   "source": [
    "X_train_dummy, X_test_dummy = Convert_categorical_variables(X, X_test, ['session_title'])"
   ]
  },
  {
   "cell_type": "code",
   "execution_count": 143,
   "metadata": {
    "ExecuteTime": {
     "end_time": "2019-11-06T04:09:46.945767Z",
     "start_time": "2019-11-06T04:08:58.637690Z"
    }
   },
   "outputs": [
    {
     "name": "stdout",
     "output_type": "stream",
     "text": [
      "choen_kappa_score : 0.5166805613517007\n",
      "choen_kappa_score : 0.5061318690102155\n",
      "choen_kappa_score : 0.4974334951908197\n",
      "choen_kappa_score : 0.5037038309893107\n",
      "choen_kappa_score : 0.5010324976686563\n",
      "Mean score: 0.5049964508421406\n"
     ]
    }
   ],
   "source": [
    "xgb_model_dummy,pred_xgb_dummy = model_XGBOOST(X_train_dummy, y,X_test_dummy,5)"
   ]
  },
  {
   "cell_type": "markdown",
   "metadata": {
    "ExecuteTime": {
     "end_time": "2019-11-06T20:51:57.169898Z",
     "start_time": "2019-11-06T20:51:57.116315Z"
    }
   },
   "source": [
    "# Visualiztions"
   ]
  },
  {
   "cell_type": "code",
   "execution_count": 257,
   "metadata": {
    "ExecuteTime": {
     "end_time": "2019-11-06T20:51:37.825147Z",
     "start_time": "2019-11-06T20:51:35.853150Z"
    }
   },
   "outputs": [
    {
     "data": {
      "image/png": "[encoded data removed]",
      "text/plain": [
       "<Figure size 576x432 with 1 Axes>"
      ]
     },
     "metadata": {},
     "output_type": "display_data"
    }
   ],
   "source": [
    "plot_count('accuracy_group', 'Accuracy Group', 'Accuracy Group', train_labels, size=2)"
   ]
  },
  {
   "cell_type": "code",
   "execution_count": 255,
   "metadata": {
    "ExecuteTime": {
     "end_time": "2019-11-06T16:35:44.034883Z",
     "start_time": "2019-11-06T16:35:40.340015Z"
    }
   },
   "outputs": [
    {
     "data": {
      "image/png": "[encoded data removed]",
      "text/plain": [
       "<Figure size 576x432 with 1 Axes>"
      ]
     },
     "metadata": {},
     "output_type": "display_data"
    }
   ],
   "source": [
    "plot_count('type', 'Media Type', 'Media Type', train, size=2)"
   ]
  },
  {
   "cell_type": "code",
   "execution_count": null,
   "metadata": {},
   "outputs": [],
   "source": []
  }
 ],
 "metadata": {
  "kernelspec": {
   "display_name": "Python 3",
   "language": "python",
   "name": "python3"
  },
  "language_info": {
   "codemirror_mode": {
    "name": "ipython",
    "version": 3
   },
   "file_extension": ".py",
   "mimetype": "text/x-python",
   "name": "python",
   "nbconvert_exporter": "python",
   "pygments_lexer": "ipython3",
   "version": "3.7.1"
  },
  "toc": {
   "base_numbering": 1,
   "nav_menu": {},
   "number_sections": true,
   "sideBar": true,
   "skip_h1_title": false,
   "title_cell": "Table of Contents",
   "title_sidebar": "Contents",
   "toc_cell": false,
   "toc_position": {},
   "toc_section_display": true,
   "toc_window_display": false
  },
  "varInspector": {
   "cols": {
    "lenName": 16,
    "lenType": 16,
    "lenVar": 40
   },
   "kernels_config": {
    "python": {
     "delete_cmd_postfix": "",
     "delete_cmd_prefix": "del ",
     "library": "var_list.py",
     "varRefreshCmd": "print(var_dic_list())"
    },
    "r": {
     "delete_cmd_postfix": ") ",
     "delete_cmd_prefix": "rm(",
     "library": "var_list.r",
     "varRefreshCmd": "cat(var_dic_list()) "
    }
   },
   "types_to_exclude": [
    "module",
    "function",
    "builtin_function_or_method",
    "instance",
    "_Feature"
   ],
   "window_display": false
  }
 },
 "nbformat": 4,
 "nbformat_minor": 2
}
