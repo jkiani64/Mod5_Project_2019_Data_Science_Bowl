{
 "cells": [
  {
   "cell_type": "code",
   "execution_count": 1,
   "metadata": {
    "ExecuteTime": {
     "end_time": "2019-11-03T21:31:21.533047Z",
     "start_time": "2019-11-03T21:31:19.351278Z"
    }
   },
   "outputs": [],
   "source": [
    "import numpy as np\n",
    "from tqdm import tqdm\n",
    "import json\n",
    "import pandas as pd\n",
    "import os\n",
    "import gc\n",
    "from sklearn.preprocessing import LabelEncoder\n",
    "from sklearn.model_selection import KFold\n",
    "#import lightgbm as lgb"
   ]
  },
  {
   "cell_type": "code",
   "execution_count": 26,
   "metadata": {
    "ExecuteTime": {
     "end_time": "2019-11-03T22:30:49.125055Z",
     "start_time": "2019-11-03T22:30:49.079259Z"
    }
   },
   "outputs": [
    {
     "name": "stdout",
     "output_type": "stream",
     "text": [
      "Reading sample_submission.csv file....\n",
      "Sample_submission.csv file have 1000 rows and 2 columns\n"
     ]
    }
   ],
   "source": [
    "    print('Reading sample_submission.csv file....')\n",
    "    sample_submission = pd.read_csv('data/sample_submission.csv')\n",
    "    print('Sample_submission.csv file have {} rows and {} columns'.format(sample_submission.shape[0], sample_submission.shape[1]))"
   ]
  },
  {
   "cell_type": "code",
   "execution_count": 2,
   "metadata": {
    "ExecuteTime": {
     "end_time": "2019-11-03T21:33:03.767350Z",
     "start_time": "2019-11-03T21:31:21.567560Z"
    }
   },
   "outputs": [
    {
     "name": "stdout",
     "output_type": "stream",
     "text": [
      "Reading train.csv file....\n",
      "Training.csv file have 11341042 rows and 11 columns\n",
      "Reading train_labels.csv file....\n",
      "Train_labels.csv file have 17690 rows and 7 columns\n"
     ]
    }
   ],
   "source": [
    "#Shape of data \n",
    "print('Reading train.csv file....')\n",
    "train = pd.read_csv('data/train.csv')\n",
    "print('Training.csv file have {} rows and {} columns'.format(train.shape[0], train.shape[1]))\n",
    "\n",
    "print('Reading test.csv file....')\n",
    "test = pd.read_csv('data/test.csv')\n",
    "print('Test.csv file have {} rows and {} columns'.format(test.shape[0], test.shape[1]))\n",
    "\n",
    "print('Reading train_labels.csv file....')\n",
    "train_labels = pd.read_csv('data/train_labels.csv')\n",
    "print('Train_labels.csv file have {} rows and {} columns'.format(train_labels.shape[0], train_labels.shape[1]))\n",
    "\n",
    "# print('Reading specs.csv file....')\n",
    "# specs = pd.read_csv('data/specs.csv')\n",
    "# print('Specs.csv file have {} rows and {} columns'.format(specs.shape[0], specs.shape[1]))\n",
    "\n",
    "# print('Reading sample_submission.csv file....')\n",
    "# sample_submission = pd.read_csv('data/sample_submission.csv')\n",
    "# print('Sample_submission.csv file have {} rows and {} columns'.format(sample_submission.shape[0], sample_submission.shape[1]))"
   ]
  },
  {
   "cell_type": "code",
   "execution_count": 3,
   "metadata": {
    "ExecuteTime": {
     "end_time": "2019-11-03T21:33:04.002067Z",
     "start_time": "2019-11-03T21:33:03.949846Z"
    }
   },
   "outputs": [
    {
     "data": {
      "text/html": [
       "<div>\n",
       "<style scoped>\n",
       "    .dataframe tbody tr th:only-of-type {\n",
       "        vertical-align: middle;\n",
       "    }\n",
       "\n",
       "    .dataframe tbody tr th {\n",
       "        vertical-align: top;\n",
       "    }\n",
       "\n",
       "    .dataframe thead th {\n",
       "        text-align: right;\n",
       "    }\n",
       "</style>\n",
       "<table border=\"1\" class=\"dataframe\">\n",
       "  <thead>\n",
       "    <tr style=\"text-align: right;\">\n",
       "      <th></th>\n",
       "      <th>event_id</th>\n",
       "      <th>game_session</th>\n",
       "      <th>timestamp</th>\n",
       "      <th>event_data</th>\n",
       "      <th>installation_id</th>\n",
       "      <th>event_count</th>\n",
       "      <th>event_code</th>\n",
       "      <th>game_time</th>\n",
       "      <th>title</th>\n",
       "      <th>type</th>\n",
       "      <th>world</th>\n",
       "    </tr>\n",
       "  </thead>\n",
       "  <tbody>\n",
       "    <tr>\n",
       "      <th>0</th>\n",
       "      <td>27253bdc</td>\n",
       "      <td>45bb1e1b6b50c07b</td>\n",
       "      <td>2019-09-06T17:53:46.937Z</td>\n",
       "      <td>{\"event_code\": 2000, \"event_count\": 1}</td>\n",
       "      <td>0001e90f</td>\n",
       "      <td>1</td>\n",
       "      <td>2000</td>\n",
       "      <td>0</td>\n",
       "      <td>Welcome to Lost Lagoon!</td>\n",
       "      <td>Clip</td>\n",
       "      <td>NONE</td>\n",
       "    </tr>\n",
       "    <tr>\n",
       "      <th>1</th>\n",
       "      <td>27253bdc</td>\n",
       "      <td>17eeb7f223665f53</td>\n",
       "      <td>2019-09-06T17:54:17.519Z</td>\n",
       "      <td>{\"event_code\": 2000, \"event_count\": 1}</td>\n",
       "      <td>0001e90f</td>\n",
       "      <td>1</td>\n",
       "      <td>2000</td>\n",
       "      <td>0</td>\n",
       "      <td>Magma Peak - Level 1</td>\n",
       "      <td>Clip</td>\n",
       "      <td>MAGMAPEAK</td>\n",
       "    </tr>\n",
       "    <tr>\n",
       "      <th>2</th>\n",
       "      <td>77261ab5</td>\n",
       "      <td>0848ef14a8dc6892</td>\n",
       "      <td>2019-09-06T17:54:56.302Z</td>\n",
       "      <td>{\"version\":\"1.0\",\"event_count\":1,\"game_time\":0...</td>\n",
       "      <td>0001e90f</td>\n",
       "      <td>1</td>\n",
       "      <td>2000</td>\n",
       "      <td>0</td>\n",
       "      <td>Sandcastle Builder (Activity)</td>\n",
       "      <td>Activity</td>\n",
       "      <td>MAGMAPEAK</td>\n",
       "    </tr>\n",
       "    <tr>\n",
       "      <th>3</th>\n",
       "      <td>b2dba42b</td>\n",
       "      <td>0848ef14a8dc6892</td>\n",
       "      <td>2019-09-06T17:54:56.387Z</td>\n",
       "      <td>{\"description\":\"Let's build a sandcastle! Firs...</td>\n",
       "      <td>0001e90f</td>\n",
       "      <td>2</td>\n",
       "      <td>3010</td>\n",
       "      <td>53</td>\n",
       "      <td>Sandcastle Builder (Activity)</td>\n",
       "      <td>Activity</td>\n",
       "      <td>MAGMAPEAK</td>\n",
       "    </tr>\n",
       "    <tr>\n",
       "      <th>4</th>\n",
       "      <td>1bb5fbdb</td>\n",
       "      <td>0848ef14a8dc6892</td>\n",
       "      <td>2019-09-06T17:55:03.253Z</td>\n",
       "      <td>{\"description\":\"Let's build a sandcastle! Firs...</td>\n",
       "      <td>0001e90f</td>\n",
       "      <td>3</td>\n",
       "      <td>3110</td>\n",
       "      <td>6972</td>\n",
       "      <td>Sandcastle Builder (Activity)</td>\n",
       "      <td>Activity</td>\n",
       "      <td>MAGMAPEAK</td>\n",
       "    </tr>\n",
       "  </tbody>\n",
       "</table>\n",
       "</div>"
      ],
      "text/plain": [
       "   event_id      game_session                 timestamp  \\\n",
       "0  27253bdc  45bb1e1b6b50c07b  2019-09-06T17:53:46.937Z   \n",
       "1  27253bdc  17eeb7f223665f53  2019-09-06T17:54:17.519Z   \n",
       "2  77261ab5  0848ef14a8dc6892  2019-09-06T17:54:56.302Z   \n",
       "3  b2dba42b  0848ef14a8dc6892  2019-09-06T17:54:56.387Z   \n",
       "4  1bb5fbdb  0848ef14a8dc6892  2019-09-06T17:55:03.253Z   \n",
       "\n",
       "                                          event_data installation_id  \\\n",
       "0             {\"event_code\": 2000, \"event_count\": 1}        0001e90f   \n",
       "1             {\"event_code\": 2000, \"event_count\": 1}        0001e90f   \n",
       "2  {\"version\":\"1.0\",\"event_count\":1,\"game_time\":0...        0001e90f   \n",
       "3  {\"description\":\"Let's build a sandcastle! Firs...        0001e90f   \n",
       "4  {\"description\":\"Let's build a sandcastle! Firs...        0001e90f   \n",
       "\n",
       "   event_count  event_code  game_time                          title  \\\n",
       "0            1        2000          0        Welcome to Lost Lagoon!   \n",
       "1            1        2000          0           Magma Peak - Level 1   \n",
       "2            1        2000          0  Sandcastle Builder (Activity)   \n",
       "3            2        3010         53  Sandcastle Builder (Activity)   \n",
       "4            3        3110       6972  Sandcastle Builder (Activity)   \n",
       "\n",
       "       type      world  \n",
       "0      Clip       NONE  \n",
       "1      Clip  MAGMAPEAK  \n",
       "2  Activity  MAGMAPEAK  \n",
       "3  Activity  MAGMAPEAK  \n",
       "4  Activity  MAGMAPEAK  "
      ]
     },
     "execution_count": 3,
     "metadata": {},
     "output_type": "execute_result"
    }
   ],
   "source": [
    "train.head()"
   ]
  },
  {
   "cell_type": "code",
   "execution_count": 9,
   "metadata": {
    "ExecuteTime": {
     "end_time": "2019-11-03T22:04:09.432338Z",
     "start_time": "2019-11-03T22:04:08.057257Z"
    }
   },
   "outputs": [],
   "source": [
    "activities_map = dict(zip(train['title'].unique(), \n",
    "                          4100*np.ones(train['title'].nunique()).astype('int')))\n",
    "activities_map['Bird Measurer (Assessment)'] = 4110"
   ]
  },
  {
   "cell_type": "code",
   "execution_count": 147,
   "metadata": {
    "ExecuteTime": {
     "end_time": "2019-11-04T04:35:41.877073Z",
     "start_time": "2019-11-04T04:35:41.759242Z"
    }
   },
   "outputs": [],
   "source": [
    "def feature_engineering(user_sample, test_data=False):\n",
    "    output = []\n",
    "    cum_assessments, cum_activity, cum_clips, cum_games = 0, 0, 0, 0\n",
    "    cum_corrects, cum_incorrects = 0, 0\n",
    "    cum_dur_assessment = 0\n",
    "    # itarates through each session of one instalation_id\n",
    "    for session_name, session in user_sample.groupby('game_session', sort=False):\n",
    "\n",
    "        # Empty dict to have the feature characterestics\n",
    "        features = {}\n",
    "        features['installation_id'] = session['installation_id'].unique()[0]\n",
    "        features['game_session'] = session['game_session'].unique()[0]\n",
    "        # event_counter includes all event codes and all types\n",
    "        features['event_counter'] = session.iloc[-1]['event_count']\n",
    "\n",
    "        # session type\n",
    "        features['type'] = session['type'].unique()[0]\n",
    "        # session title\n",
    "        features['title'] = session['title'].unique()[0]\n",
    "\n",
    "        # World\n",
    "        features['world'] = session['world'].unique()[0]\n",
    "\n",
    "        # Just get back those with event codes of 4100 and 4110\n",
    "        all_attempts = session.query(\n",
    "            f'event_code == {activities_map[features[\"title\"]]}')\n",
    "#        all_attempts = session\n",
    "\n",
    "        # check the total number of actions\n",
    "        features['cum_assessments'] = cum_assessments\n",
    "        # The number of clicks that the user watched before this assessment\n",
    "        features['cum_clips'] = cum_clips\n",
    "        features['cum_activity'] = cum_activity\n",
    "        features['cum_games'] = cum_games\n",
    "\n",
    "        if features['type'] == 'Assessment':\n",
    "            # if we consider all event codes,\n",
    "            # actions should be the same as event counter\n",
    "            features['assessments'] = len(all_attempts['event_data'])\n",
    "            cum_assessments += features['assessments']\n",
    "            \n",
    "            # Durations\n",
    "            features['cum_dur_assessment'] = cum_dur_assessment\n",
    "            # print(all_attempts['game_time'])\n",
    "            durations = all_attempts['game_time'].diff().dropna()\n",
    "            features['assessment_zero_dur'] = sum(durations == 0)\n",
    "            features['assessment_dur_sum'] = sum(durations)\n",
    "            features['assessment_dur_std'] = durations.std()\n",
    "            features['assessment_dur_std_nonzero'] = durations.loc[durations != 0].std()\n",
    "            features['assessment_dur_mean_nonzero'] = durations.loc[durations != 0].mean()\n",
    "            cum_dur_assessment += features['assessment_dur_sum']\n",
    "            \n",
    "            # Check the numbers of correct atteampts\n",
    "            features['cum_corrects'] = cum_corrects\n",
    "            features['correct'] = all_attempts['event_data'].str.contains(\n",
    "                'true').sum()\n",
    "            cum_corrects += features['correct']\n",
    "\n",
    "            # Check the numbers of incorrect atteampts\n",
    "            features['cum_incorrect'] = cum_incorrects\n",
    "            features['incorrect'] = all_attempts['event_data'].str.contains(\n",
    "                'false').sum()\n",
    "            cum_incorrects += features['incorrect']\n",
    "\n",
    "            # To compute accuracy\n",
    "            features['acc'] = features['correct'] / (features['assessments'])\\\n",
    "            if features['assessments'] != 0 else None\n",
    "\n",
    "            # To find the accuracy group\n",
    "            if features['acc'] == 0:\n",
    "                features['acc_group'] = 0\n",
    "            elif features['acc'] == 1:\n",
    "                features['acc_group'] = 3\n",
    "            elif features['acc'] == 0.5:\n",
    "                features['acc_group'] = 2\n",
    "            else:\n",
    "                features['acc_group'] = 1\n",
    "\n",
    "        elif features['type'] == 'Clip':\n",
    "            # check the total number of clips\n",
    "            cum_clips += len(all_attempts['event_data'])\n",
    "        elif features['type'] == 'Activity':\n",
    "            # check the total number of clips\n",
    "            cum_activity += len(all_attempts['event_data'])\n",
    "        elif features['type'] == 'Game':\n",
    "            # check the total number of clips\n",
    "            cum_games += len(all_attempts['event_data'])\n",
    "        else:\n",
    "            raise Exception(\n",
    "                '{} is not within the predefined features'.format(features['type']))\n",
    "\n",
    "        if features.get('assessments', 0) > 0 or test_data:\n",
    "            output.append(features)\n",
    "    if test_data:\n",
    "        return output[-1]\n",
    "    return output"
   ]
  },
  {
   "cell_type": "markdown",
   "metadata": {},
   "source": [
    "### Process train set"
   ]
  },
  {
   "cell_type": "code",
   "execution_count": 148,
   "metadata": {
    "ExecuteTime": {
     "end_time": "2019-11-04T04:36:24.526864Z",
     "start_time": "2019-11-04T04:35:59.757754Z"
    }
   },
   "outputs": [],
   "source": [
    "# Apply compile function to each installation_id in train dataset\n",
    "groups = train.groupby('installation_id', sort = False)\n",
    "df_train = pd.DataFrame()\n",
    "count = 0\n",
    "for ins_id, user_sample in groups:\n",
    "    df_train = df_train.append(pd.DataFrame(feature_engineering(user_sample)))\n",
    "print(df_train.shape)\n",
    "df_train['installation_id'].equals(train_labels['installation_id'])"
   ]
  },
  {
   "cell_type": "markdown",
   "metadata": {},
   "source": [
    "### Process test set"
   ]
  },
  {
   "cell_type": "code",
   "execution_count": 96,
   "metadata": {
    "ExecuteTime": {
     "end_time": "2019-11-04T03:42:26.314366Z",
     "start_time": "2019-11-04T03:40:18.908857Z"
    }
   },
   "outputs": [
    {
     "name": "stderr",
     "output_type": "stream",
     "text": [
      "100%|██████████| 1000/1000 [02:07<00:00,  7.87it/s]"
     ]
    },
    {
     "name": "stdout",
     "output_type": "stream",
     "text": [
      "(1000, 23)\n"
     ]
    },
    {
     "name": "stderr",
     "output_type": "stream",
     "text": [
      "\n"
     ]
    },
    {
     "data": {
      "text/plain": [
       "True"
      ]
     },
     "execution_count": 96,
     "metadata": {},
     "output_type": "execute_result"
    }
   ],
   "source": [
    "temp_data = []\n",
    "for ins_id, user_sample in tqdm(test.groupby('installation_id', sort=False)):\n",
    "    a = feature_engineering(user_sample, test_data = True)\n",
    "    temp_data.append(a)\n",
    "    \n",
    "df_test = pd.DataFrame(temp_data)\n",
    "del temp_data\n",
    "print(df_test.shape)\n",
    "df_test['installation_id'].equals(sample_submission['installation_id'])"
   ]
  },
  {
   "cell_type": "code",
   "execution_count": 156,
   "metadata": {
    "ExecuteTime": {
     "end_time": "2019-11-03T21:09:28.899784Z",
     "start_time": "2019-11-03T21:09:28.893966Z"
    }
   },
   "outputs": [],
   "source": [
    "# for idx in train_labels.index:\n",
    "#     game_session = train_labels.iloc[idx]['game_session']\n",
    "#     installation_id = train_labels.iloc[idx]['installation_id']\n",
    "#     acc = df_train.loc[(df_train['game_session'] == game_session) &\n",
    "#                 (df_train['installation_id'] == installation_id)]['acc']\n",
    "#     acc_2 = train_labels.iloc[idx]['accuracy']\n",
    "#     acc = np.float(acc)\n",
    "#     if  acc != acc_2:\n",
    "#         print(idx, acc, acc_2)"
   ]
  },
  {
   "cell_type": "code",
   "execution_count": null,
   "metadata": {},
   "outputs": [],
   "source": []
  }
 ],
 "metadata": {
  "kernelspec": {
   "display_name": "Python 3",
   "language": "python",
   "name": "python3"
  },
  "language_info": {
   "codemirror_mode": {
    "name": "ipython",
    "version": 3
   },
   "file_extension": ".py",
   "mimetype": "text/x-python",
   "name": "python",
   "nbconvert_exporter": "python",
   "pygments_lexer": "ipython3",
   "version": "3.7.1"
  },
  "toc": {
   "base_numbering": 1,
   "nav_menu": {},
   "number_sections": true,
   "sideBar": true,
   "skip_h1_title": false,
   "title_cell": "Table of Contents",
   "title_sidebar": "Contents",
   "toc_cell": false,
   "toc_position": {},
   "toc_section_display": true,
   "toc_window_display": false
  },
  "varInspector": {
   "cols": {
    "lenName": 16,
    "lenType": 16,
    "lenVar": 40
   },
   "kernels_config": {
    "python": {
     "delete_cmd_postfix": "",
     "delete_cmd_prefix": "del ",
     "library": "var_list.py",
     "varRefreshCmd": "print(var_dic_list())"
    },
    "r": {
     "delete_cmd_postfix": ") ",
     "delete_cmd_prefix": "rm(",
     "library": "var_list.r",
     "varRefreshCmd": "cat(var_dic_list()) "
    }
   },
   "types_to_exclude": [
    "module",
    "function",
    "builtin_function_or_method",
    "instance",
    "_Feature"
   ],
   "window_display": false
  }
 },
 "nbformat": 4,
 "nbformat_minor": 2
}
